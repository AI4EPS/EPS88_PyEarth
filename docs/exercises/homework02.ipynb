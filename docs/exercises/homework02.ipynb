{
 "cells": [
  {
   "cell_type": "markdown",
   "metadata": {},
   "source": [
    "# Homework 02 of EPS 88\n",
    "\n",
    "## GPS data and subsidence of the San Joaquin Valley\n",
    "\n",
    "The example data we are going to use today is from continuously operating high-precision GPS stations that are operated by UNAVCO which is a non-profit university-governed consortium that facilitates geoscience research and education using geodesy. \n",
    "\n",
    "Let's get an introduction here: https://youtu.be/yxLMk120vMU\n",
    "\n",
    "This data viewer gives a great summary velocity overview of the available GPS data: https://www.unavco.org/software/visualization/GPS-Velocity-Viewer/GPS-Velocity-Viewer.html\n",
    "\n",
    "Let's look at data from a GPS station that is in Visalia California. Visalia is in the San Joaquin Valley between Fresno and Bakersfield.\n",
    "\n",
    "https://www.unavco.org/instrumentation/networks/status/pbo/overview/P566"
   ]
  },
  {
   "cell_type": "markdown",
   "metadata": {},
   "source": [
    "Today we will be focused on putting tools to use that we have used before with a couple new tricks related to dealing with time-series data. \n",
    "\n",
    "## Using pandas to import and filter data\n",
    "\n",
    "From the previous classes we have used the pandas library to import and filter data. The DataFrame object has been the most common way we have dealt with data.\n",
    "\n",
    "We have used the `numpy` library of functions to make numerical and statistical calculations. In particular we have put the numpy array data structure to work for us."
   ]
  },
  {
   "cell_type": "code",
   "execution_count": 1,
   "metadata": {},
   "outputs": [],
   "source": [
    "import pandas as pd\n",
    "import numpy as np"
   ]
  },
  {
   "cell_type": "markdown",
   "metadata": {},
   "source": [
    "One of the strengths of pandas is its ability to read and write different data types. For example, we have used the `pd.read_csv()` function to import .csv files throughout the course. This function can either be pointed to a file that is one your computer or a file that is posted on the internet. There are some online databases where you can use a url to access data of your choosing using a special format (API). We took this approach to get our birthquakes earlier in the course.\n",
    "\n",
    "Let's import daily data since 2005 for the Visalia California GPS station. The data is in the North American tectonic plate (NAM14) reference frame which means that it takes the interior eastern part of North America functions as a fixed and stable point. "
   ]
  },
  {
   "cell_type": "code",
   "execution_count": 2,
   "metadata": {},
   "outputs": [],
   "source": [
    "P566_GPS_data = pd.read_csv('data/P566.cwu.nam14.csv')"
   ]
  },
  {
   "cell_type": "markdown",
   "metadata": {},
   "source": [
    "Whoops. There was an error. I kept this error in here as a reminder that I get errors all of the time. Remember that the errors are informative, but can also be a bit cryptic. In this case, it says \"Expected 2 fields in line 10, saw 4.\" So it seems like there is a mismatch between the number of columns it is expecting and the number that there are. \n",
    "\n",
    "Let's look at the file.\n",
    "\n",
    "It turns out that there are a bunch of header lines and the header row that contains the column names needs to be specified (`header = 11`)."
   ]
  },
  {
   "cell_type": "code",
   "execution_count": 3,
   "metadata": {},
   "outputs": [],
   "source": [
    "## Add header = 11 to skip the first 11 rows\n"
   ]
  },
  {
   "cell_type": "markdown",
   "metadata": {},
   "source": [
    "We know how to take a peak at a DataFrame by applying the `.head()` function."
   ]
  },
  {
   "cell_type": "code",
   "execution_count": null,
   "metadata": {},
   "outputs": [],
   "source": [
    "P566_GPS_data.head()"
   ]
  },
  {
   "cell_type": "markdown",
   "metadata": {},
   "source": [
    "We have done a lot where we have used extracted data from a single column. We have used the syntax `DataFrameName['column_name]`. It can be helpful to look at the available columns:"
   ]
  },
  {
   "cell_type": "code",
   "execution_count": null,
   "metadata": {},
   "outputs": [],
   "source": [
    "P566_GPS_data.columns"
   ]
  },
  {
   "cell_type": "markdown",
   "metadata": {},
   "source": [
    "Some columns names have spaces before and after the name. To make it easier to work with the data, let's remove the spaces from the column names."
   ]
  },
  {
   "cell_type": "code",
   "execution_count": 5,
   "metadata": {},
   "outputs": [],
   "source": [
    "P566_GPS_data.columns = P566_GPS_data.columns.str.strip()"
   ]
  },
  {
   "cell_type": "markdown",
   "metadata": {},
   "source": [
    "Let first look at how this point is moving north with respect to stable North America."
   ]
  },
  {
   "cell_type": "code",
   "execution_count": null,
   "metadata": {},
   "outputs": [],
   "source": [
    "P566_GPS_data['North (mm)'].describe()"
   ]
  },
  {
   "cell_type": "markdown",
   "metadata": {},
   "source": [
    "By themselves these data are pretty cool. It looks like Visalia has moved north relative to stable North America by ~170 mm (17 cm) over the past 18 years (the data starts in November 2005)."
   ]
  },
  {
   "cell_type": "markdown",
   "metadata": {},
   "source": [
    "### Pandas timeseries\n",
    "\n",
    "Pandas is good at dealing with time series data. We need to make sure that the data type of the 'Date' column is a time series"
   ]
  },
  {
   "cell_type": "code",
   "execution_count": null,
   "metadata": {},
   "outputs": [],
   "source": [
    "P566_GPS_data['Date'][0]"
   ]
  },
  {
   "cell_type": "code",
   "execution_count": null,
   "metadata": {},
   "outputs": [],
   "source": [
    "type(P566_GPS_data['Date'][0])"
   ]
  },
  {
   "cell_type": "markdown",
   "metadata": {},
   "source": [
    "Right now, pandas thinks that the values in the data column are strings (a sequence of characters) rather than datetime values. We can convert them to be datetime values using `pd.to_datetime`."
   ]
  },
  {
   "cell_type": "code",
   "execution_count": 10,
   "metadata": {},
   "outputs": [],
   "source": [
    "## Use the pd.to_datetime function to convert the Date column to a datetime object\n",
    "P566_GPS_data['Date'] = "
   ]
  },
  {
   "cell_type": "code",
   "execution_count": null,
   "metadata": {},
   "outputs": [],
   "source": [
    "P566_GPS_data['Date'][0]"
   ]
  },
  {
   "cell_type": "code",
   "execution_count": null,
   "metadata": {},
   "outputs": [],
   "source": [
    "type(P566_GPS_data['Date'][0])"
   ]
  },
  {
   "cell_type": "markdown",
   "metadata": {},
   "source": [
    "## Making plots using `matplotlib`\n",
    "\n",
    "We have relied on `matplotlib` to make plots throughout the course which we have imported as follows:"
   ]
  },
  {
   "cell_type": "code",
   "execution_count": 13,
   "metadata": {},
   "outputs": [],
   "source": [
    "import matplotlib.pyplot as plt"
   ]
  },
  {
   "cell_type": "markdown",
   "metadata": {},
   "source": [
    "### Plotting with pandas\n",
    "\n",
    "One thing that you can do using pandas once you have imported matplotlib that we haven't done very much is use built-in plotting functions on the DataFrame. In this case we can use `.plot`."
   ]
  },
  {
   "cell_type": "code",
   "execution_count": null,
   "metadata": {},
   "outputs": [],
   "source": [
    "P566_GPS_data.plot(x='Date', y='North (mm)')"
   ]
  },
  {
   "cell_type": "markdown",
   "metadata": {},
   "source": [
    "### Plotting using plt functions\n",
    "\n",
    "We have made a number of different plot types using `matplotlib` such as `plt.hist()`, `plt.plot()` and `plt.scatter()`. When dealing with timedate values, one can use `plt.plot()`, but not `plt.scatter()`. \n",
    "\n",
    "Let's visualize both the north and east columns using `plt.plot()`. The data are from every day between Nov. 16, 2005 and now."
   ]
  },
  {
   "cell_type": "code",
   "execution_count": null,
   "metadata": {},
   "outputs": [],
   "source": [
    "## Create a plot between P566_GPS_data['Date'] and P566_GPS_data['North (mm)']\n"
   ]
  },
  {
   "cell_type": "code",
   "execution_count": null,
   "metadata": {},
   "outputs": [],
   "source": [
    "## Create a plot between P566_GPS_data['Date'] and P566_GPS_data['East (mm)']\n"
   ]
  },
  {
   "cell_type": "markdown",
   "metadata": {},
   "source": [
    "What is going on with that drop midway through 2019? Let's take a look. \n",
    "\n",
    "Through some trial and error, the drop was between indices 4900 and 4950. Let's zoom in on that drop. "
   ]
  },
  {
   "cell_type": "code",
   "execution_count": null,
   "metadata": {},
   "outputs": [],
   "source": [
    "plt.figure(figsize=(10,5))\n",
    "plt.plot(P566_GPS_data['Date'][4900:4950],P566_GPS_data['East (mm)'][4900:4950],'.')\n",
    "plt.ylabel('east since start (mm)')\n",
    "plt.xlabel('date')\n",
    "plt.title('GPS data from station P566 (Visalia, CA)')\n",
    "plt.tight_layout()\n",
    "plt.show()"
   ]
  },
  {
   "cell_type": "markdown",
   "metadata": {},
   "source": [
    "What happened on July 6, 2019? Add your answer to the cell below."
   ]
  },
  {
   "cell_type": "markdown",
   "metadata": {},
   "source": []
  },
  {
   "cell_type": "markdown",
   "metadata": {},
   "source": [
    "https://earthquake.usgs.gov/earthquakes/eventpage/ci38457511/executive"
   ]
  },
  {
   "cell_type": "markdown",
   "metadata": {},
   "source": [
    "## Fitting a line with scikit-learn\n",
    "\n",
    "Scikit-learn has a function called `LinearRegression` that can be used to calculate best fit lines using the .fit() method. We have used this to fit lines to data in the past.\n",
    "\n",
    "Recall from class, we can also consider higher order curves by using the `PolynomialFeatures` function in scikit-learn.\n",
    "\n",
    "This function can be used to transform the data into a higher order polynomial space and then use the `LinearRegression` function to fit a line to the transformed data."
   ]
  },
  {
   "cell_type": "code",
   "execution_count": 48,
   "metadata": {},
   "outputs": [],
   "source": [
    "from sklearn.linear_model import LinearRegression"
   ]
  },
  {
   "cell_type": "markdown",
   "metadata": {},
   "source": [
    "We can calculate the number of days by making a new column in the data frame that is the 'date' value minus the initial date. This will be the number of days since the first date in the data set (Nov. 16 2005). "
   ]
  },
  {
   "cell_type": "code",
   "execution_count": 20,
   "metadata": {},
   "outputs": [],
   "source": [
    "P566_GPS_data['days'] = (P566_GPS_data['Date'] - P566_GPS_data['Date'][0])/np.timedelta64(1,'D')"
   ]
  },
  {
   "cell_type": "markdown",
   "metadata": {},
   "source": [
    "Let's take a look at our DataFrame and make sure it has a new column `days` and that the column looks good."
   ]
  },
  {
   "cell_type": "code",
   "execution_count": null,
   "metadata": {},
   "outputs": [],
   "source": [
    "P566_GPS_data.head()"
   ]
  },
  {
   "cell_type": "markdown",
   "metadata": {},
   "source": [
    "Now we can do a linear regression between the days (`P566_GPS_data['days']`) and the distance traveled north (`P566_GPS_data['North (mm)']`)"
   ]
  },
  {
   "cell_type": "code",
   "execution_count": null,
   "metadata": {},
   "outputs": [],
   "source": [
    "## Define and fit a linear regression model using the 'days' column as the independent variable and the 'North (mm)' column as the dependent variable\n",
    "## Hint: the independent variable should be a 2D array, you should use double brackets [[]] to select the column \n",
    "model_north = \n",
    "model_north.fit("
   ]
  },
  {
   "cell_type": "markdown",
   "metadata": {},
   "source": [
    "We can get the best fitting slope and intercept of the line using the `.coef_` and `.intercept_` attributes of the `LinearRegression` object."
   ]
  },
  {
   "cell_type": "code",
   "execution_count": 23,
   "metadata": {},
   "outputs": [],
   "source": [
    "## Retrieve the slope and intercept from the model\n",
    "slop, intercept = "
   ]
  },
  {
   "cell_type": "code",
   "execution_count": null,
   "metadata": {},
   "outputs": [],
   "source": [
    "print(f'The slope is {slop:.2f} and the intercept is {intercept:.2f}')"
   ]
  },
  {
   "cell_type": "markdown",
   "metadata": {},
   "source": [
    "**What are the units of this slope?** Write your answer in the cell below."
   ]
  },
  {
   "cell_type": "markdown",
   "metadata": {},
   "source": []
  },
  {
   "cell_type": "markdown",
   "metadata": {},
   "source": [
    " ### Make a plot of prediction\n",
    "\n",
    "**Plot a best-fit line for the data.** *Recall that you can use model.predict() to predict the values of the best-fit line.*\n",
    "\n",
    "**Calculate and plot the residual.** *Recall that the residual is the difference between the actual data and the values obtained with the linear model.*\n",
    "\n",
    "**Use the same function to predict how far north (relative to stable North America) the Visalia station will go in the next 10 years.** *There are 365.25 days in a year.*"
   ]
  },
  {
   "cell_type": "code",
   "execution_count": null,
   "metadata": {},
   "outputs": [],
   "source": [
    "## Predict the dependent variable based on the independent variable 'days'\n",
    "y_pred = \n"
   ]
  },
  {
   "cell_type": "code",
   "execution_count": 50,
   "metadata": {},
   "outputs": [],
   "source": [
    "## Plot both the data 'North (mm)' and the model 'y_pred' on the same plot. Using the 'Date' column as the x-axis\n"
   ]
  },
  {
   "cell_type": "code",
   "execution_count": null,
   "metadata": {},
   "outputs": [],
   "source": [
    "## Calculate the residuals between the data 'North (mm)' and the model prediction y_pred. \n",
    "residuals = \n"
   ]
  },
  {
   "cell_type": "code",
   "execution_count": null,
   "metadata": {},
   "outputs": [],
   "source": [
    "## Plot the residuals over Date.\n"
   ]
  },
  {
   "cell_type": "markdown",
   "metadata": {},
   "source": [
    "### Evaluating the model using $R^{2}$\n",
    "\n",
    "We'd also like to know who well this model fits our data (i.e. how correlated the data are). The $R^{2}$ correlation coefficient can be helpful in this regard. $R^{2}$ is zero for uncorrelated data, and 1 for perfectly linear data (so no misfit between the model line and data). \n",
    "Let's calculate the $R^{2}$ value for our model.\n",
    "Recall that the $R^{2}$ value is calculated as follows:\n",
    "\n",
    "$$R^{2} = 1 - \\frac{\\sum_{i=1}^{n} (y_{i} - \\hat{y}_{i})^{2}}{\\sum_{i=1}^{n} (y_{i} - \\bar{y})^{2}}$$\n",
    "\n",
    "where $y_{i}$ is the actual data, $\\hat{y}_{i}$ is the prediction, and $\\bar{y}$ is the mean of the actual data."
   ]
  },
  {
   "cell_type": "code",
   "execution_count": null,
   "metadata": {},
   "outputs": [],
   "source": [
    "## Calculate the R^2 value for the model\n",
    "y_data = \n",
    "y_pred = \n",
    "\n",
    "R2 = \n",
    "\n",
    "print(f'The R^2 value is {R2:.6f}')"
   ]
  },
  {
   "cell_type": "markdown",
   "metadata": {},
   "source": [
    "### Defining a function\n",
    "\n",
    "When you may be doing a calculation more than once it is a good idea to define a function. Let's define a function that will take an east magnitude and a north magnitude and return a direction between 0 and 360."
   ]
  },
  {
   "cell_type": "code",
   "execution_count": 28,
   "metadata": {},
   "outputs": [],
   "source": [
    "def GPS_direction(east_magnitude, north_magnitude):\n",
    "    direction_rad = np.arctan2(east_magnitude, north_magnitude)\n",
    "    direction = np.rad2deg(direction_rad) % 360\n",
    "    return direction"
   ]
  },
  {
   "cell_type": "code",
   "execution_count": null,
   "metadata": {},
   "outputs": [],
   "source": [
    "GPS_direction(0,-1)"
   ]
  },
  {
   "cell_type": "markdown",
   "metadata": {},
   "source": [
    "Let's repeat the process for the east data.\n",
    "\n",
    "Calculate the slope for the east data. Use this slope and the slope for the north data to calculate the direction of the motion of the station using the `GPS_direction` function."
   ]
  },
  {
   "cell_type": "code",
   "execution_count": null,
   "metadata": {},
   "outputs": [],
   "source": [
    "## Define and fit a linear regression model using the 'days' column as the independent variable and the 'East (mm)' column as the dependent variable\n",
    "model_east = \n",
    "model_east.fit("
   ]
  },
  {
   "cell_type": "code",
   "execution_count": null,
   "metadata": {},
   "outputs": [],
   "source": [
    "### Retrieve the slope and intercept from the model\n",
    "slop_east, intercept_east = \n",
    "\n",
    "print(f'The slope is {slop_east:.2f} and the intercept is {intercept_east:.2f}')"
   ]
  },
  {
   "cell_type": "markdown",
   "metadata": {},
   "source": [
    "Based on estimation of east and north slope, we can calculate the direction of the motion of the station."
   ]
  },
  {
   "cell_type": "code",
   "execution_count": null,
   "metadata": {},
   "outputs": [],
   "source": [
    "# To make it clear, let's redefine the slope and intercept for the North component\n",
    "slop_north, intercept_north = model_north.coef_[0], model_north.intercept_\n",
    "\n",
    "direction = GPS_direction(slop_east, slop_north)\n",
    "\n",
    "print(f'The direction is {direction:.2f} degrees')"
   ]
  },
  {
   "cell_type": "markdown",
   "metadata": {},
   "source": [
    "## Making a map with `cartopy`\n",
    "\n",
    "At the start of the course, we made a number of maps using the `cartopy` library. Thecode below that will make a map showing the location of the P566 GPS station. \n",
    "\n",
    "Let's define variables giving the latitude and longitude of the P566 GPS station."
   ]
  },
  {
   "cell_type": "code",
   "execution_count": 32,
   "metadata": {},
   "outputs": [],
   "source": [
    "P566_lat = 36.32445\n",
    "P566_lon = -119.22929"
   ]
  },
  {
   "cell_type": "code",
   "execution_count": null,
   "metadata": {},
   "outputs": [],
   "source": [
    "import matplotlib.pyplot as plt\n",
    "import cartopy.crs as ccrs\n",
    "import cartopy.feature as cfeature\n",
    "import cartopy.io.img_tiles as cimgt\n",
    "\n",
    "# Replace these variables with your station's longitude and latitude\n",
    "P566_lon = -120.0  # Example longitude of station P566\n",
    "P566_lat = 37.0    # Example latitude of station P566\n",
    "\n",
    "# Add a background image from Google Maps\n",
    "tiles = cimgt.GoogleTiles()\n",
    "\n",
    "# Set up the map\n",
    "plt.figure(figsize=(10, 10))\n",
    "ax = plt.axes(projection=tiles.crs)\n",
    "ax.set_extent((-125, -114, 32, 42.5))  # Set the geographical extent (lon_min, lon_max, lat_min, lat_max)\n",
    "\n",
    "# Instread of adding features, we add the Google Maps image\n",
    "# ax.add_feature(cfeature.LAND)\n",
    "# ax.add_feature(cfeature.OCEAN)\n",
    "# ax.add_feature(cfeature.STATES)\n",
    "\n",
    "# Add the Google Maps image to the map\n",
    "ax.add_image(tiles, 6) # The number 6 is the zoom level. The higher the number, the closer in you zoom\n",
    "\n",
    "# Plot the station's location\n",
    "ax.scatter(P566_lon, P566_lat, transform=ccrs.PlateCarree(), color='red', s=50, label='P566 Station')\n",
    "\n",
    "# Annotate the station with its name\n",
    "ax.text(P566_lon, P566_lat, 'P566\\nstation\\n', transform=ccrs.PlateCarree(),\n",
    "        color='red', horizontalalignment='center', verticalalignment='bottom', size=12)\n",
    "\n",
    "# Annotation for the direction of motion using an arrow\n",
    "ax.arrow(P566_lon, P566_lat, np.sin(np.deg2rad(direction)), np.cos(np.deg2rad(direction)), head_width=0.1, head_length=0.1, fc='blue', ec='blue', transform=ccrs.PlateCarree())\n",
    "\n",
    "plt.legend()\n",
    "plt.show()\n"
   ]
  },
  {
   "cell_type": "markdown",
   "metadata": {},
   "source": [
    "![alt text](https://static.temblor.net/wp-content/uploads/2016/05/eastern-california-21.jpg)"
   ]
  },
  {
   "cell_type": "markdown",
   "metadata": {},
   "source": [
    "Does the direction of motion of the station you calculated match the direction of the Pacific Plate relative to North America? Write your answer in the cell below."
   ]
  },
  {
   "cell_type": "markdown",
   "metadata": {},
   "source": []
  },
  {
   "cell_type": "markdown",
   "metadata": {},
   "source": [
    "### Let's take look at the vertical component of the GPS time-series\n",
    "We have been looking at the north and east components of the GPS time-series. Let's take a look at the vertical component of the GPS time-series."
   ]
  },
  {
   "cell_type": "code",
   "execution_count": 53,
   "metadata": {},
   "outputs": [],
   "source": [
    "## Create a plot between P566_GPS_data['Date'] and P566_GPS_data['Vertical (mm)']\n"
   ]
  },
  {
   "cell_type": "markdown",
   "metadata": {},
   "source": [
    "What do these data show? What is happening to the land surface? Why? Add your answer to the cell below."
   ]
  },
  {
   "cell_type": "markdown",
   "metadata": {},
   "source": []
  },
  {
   "cell_type": "markdown",
   "metadata": {},
   "source": [
    "https://earthobservatory.nasa.gov/images/89761/san-joaquin-valley-is-still-sinking\n",
    "\n",
    "https://www.earthdate.org/californias-sinking-valley"
   ]
  },
  {
   "cell_type": "markdown",
   "metadata": {},
   "source": [
    "This is a big problem for the San Joaquin Valley. So is the rate of land subsidence increasing? Specifically, was the rate of land subsidence greater during the last 5 years (2018-01-01 and 2023-01-01) than it was in the first 5 years of the record (2006-01-01 and 2011-01-01)?\n",
    "\n",
    "To answer this question, we need to:\n",
    "- Filter the DataFrame to only include those years\n",
    "- Compare the the slopes between the two age ranges. Which one appears to be greater? Is this results significant or do they have overlapping confidence bounds? "
   ]
  },
  {
   "cell_type": "markdown",
   "metadata": {},
   "source": [
    "Let's look at a subset of the data for the past 5 years between 2018-01-01 and 2023-01-01. We have done a lot of this filtering using pandas. However, the syntax is hard to remember.\n",
    "\n",
    "It can be helpful to remember how this is actually working under the hood. When we are passing in a conditional statement like `P566_GPS_data['Date'] >= '2006-01-01'` we are asking pandas to tell us, at every value in the `P566_GPS_data['Date']` column is it true or false that the date is greater than 2018-01-01? "
   ]
  },
  {
   "cell_type": "code",
   "execution_count": null,
   "metadata": {},
   "outputs": [],
   "source": [
    "P566_GPS_data['Date'] >= '2018-01-01'"
   ]
  },
  {
   "cell_type": "markdown",
   "metadata": {},
   "source": [
    "The result is a list of true/false values. We then use these true/false values to filter the values in the DataFrame only returning those that are true. We can link multiple conditionals together with the `&` symbol such as in the example below:"
   ]
  },
  {
   "cell_type": "code",
   "execution_count": null,
   "metadata": {},
   "outputs": [],
   "source": [
    "P566_GPS_18_23 = P566_GPS_data[(P566_GPS_data['Date'] >= '2018-01-01') & (P566_GPS_data['Date'] < '2023-01-01')]\n",
    "P566_GPS_18_23.head()"
   ]
  },
  {
   "cell_type": "code",
   "execution_count": null,
   "metadata": {},
   "outputs": [],
   "source": [
    "plt.figure()\n",
    "plt.plot(P566_GPS_18_23['Date'],P566_GPS_18_23['Vertical (mm)'])\n",
    "plt.ylabel('vertical since start (mm)')\n",
    "plt.xlabel('date')\n",
    "plt.title('GPS data from station P566 (Visalia, CA)')\n",
    "plt.show()"
   ]
  },
  {
   "cell_type": "code",
   "execution_count": null,
   "metadata": {},
   "outputs": [],
   "source": [
    "## Let's do the same for the period 2006-2011\n",
    "P566_GPS_06_11 = \n",
    "P566_GPS_06_11.head()"
   ]
  },
  {
   "cell_type": "markdown",
   "metadata": {},
   "source": [
    "Now we can build a linear model for the 2006-2011 data and the 2018-2023 data. So that we can compare the slopes of these two models to see if the rate of land subsidence has increased."
   ]
  },
  {
   "cell_type": "code",
   "execution_count": null,
   "metadata": {},
   "outputs": [],
   "source": [
    "## Define and fit a linear regression model using P566_GPS_18_23['days'] and P566_GPS_18_23['Vertical (mm)']\n",
    "model_18_23 =\n",
    "model_18_23.fit(\n",
    "\n",
    "## Retrieve the slope and intercept from the model\n",
    "slop_18_23, intercept_18_23 =\n",
    "print(f'The slope is {slop_18_23:.2f} and the intercept is {intercept_18_23:.2f} for the period 2018-2023')"
   ]
  },
  {
   "cell_type": "code",
   "execution_count": null,
   "metadata": {},
   "outputs": [],
   "source": [
    "## Define and fit a linear regression model using P566_GPS_06_11['days'] and P566_GPS_06_11['Vertical (mm)']\n",
    "model_06_11 = \n",
    "model_06_11.fit(\n",
    "\n",
    "## Retrieve the slope and intercept from the model\n",
    "slop_06_11, intercept_06_11 =\n",
    "print(f'The slope is {slop_06_11:.2f} and the intercept is {intercept_06_11:.2f} for the period 2006-2011')"
   ]
  },
  {
   "cell_type": "markdown",
   "metadata": {},
   "source": [
    "Based on your results, think about the following questions and write your answers in the cell below:"
   ]
  },
  {
   "cell_type": "markdown",
   "metadata": {},
   "source": [
    "What is the main economic activity around P566? And what resources does that activity require?\n"
   ]
  },
  {
   "cell_type": "markdown",
   "metadata": {},
   "source": []
  },
  {
   "cell_type": "markdown",
   "metadata": {},
   "source": [
    "What does the vertical component of the GPS time-series tell us about the land movement in the San Joaquin Valley when comparing the periods 2006-2011 and 2018-2023?"
   ]
  },
  {
   "cell_type": "markdown",
   "metadata": {},
   "source": []
  },
  {
   "cell_type": "markdown",
   "metadata": {},
   "source": [
    "What are the implications of the land subsidence in the San Joaquin Valley?"
   ]
  },
  {
   "cell_type": "markdown",
   "metadata": {},
   "source": []
  },
  {
   "cell_type": "markdown",
   "metadata": {},
   "source": [
    "![alt text](https://upload.wikimedia.org/wikipedia/commons/1/1c/Drought_area_in_California.svg)\n"
   ]
  }
 ],
 "metadata": {
  "kernelspec": {
   "display_name": "base",
   "language": "python",
   "name": "python3"
  },
  "language_info": {
   "codemirror_mode": {
    "name": "ipython",
    "version": 3
   },
   "file_extension": ".py",
   "mimetype": "text/x-python",
   "name": "python",
   "nbconvert_exporter": "python",
   "pygments_lexer": "ipython3",
   "version": "3.10.12"
  }
 },
 "nbformat": 4,
 "nbformat_minor": 4
}
