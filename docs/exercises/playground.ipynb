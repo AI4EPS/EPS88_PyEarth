{
 "cells": [
  {
   "cell_type": "markdown",
   "metadata": {},
   "source": [
    "# Welcome to the Python Playground!\n",
    "\n",
    "This Jupyter Notebook is your playground for practicing Python exercises in class. \n",
    "\n",
    "Feel free to experiment, test your code, and learn by doing\n",
    "\n",
    "Here are a few tips to get you started\n",
    "\n",
    "1. Code Cells: Each cell in this notebook is a code cell. You can write and execute Python code in these cells\n",
    "2. Execution: To execute a code cell, you can press Shift + Enter or click the Run button in the toolbar above\n",
    "3. Order of Execution: Cells are executed in the order they appear in the notebook. Make sure to run cells sequentially to avoid errors\n",
    "4. Variables and Functions: You can define variables and functions in one cell and use them in other cells\n",
    "5. Documentation: Use comments (#) to add explanations and instructions to your code. This will help you and others understand your code\n",
    "6. Experiment: Don't be afraid to try different things and experiment with the code. That's how you learn\n",
    "\n",
    "Now, let's get started with some Python exercises. Have fun exploring and learning\n",
    "Happy coding!"
   ]
  },
  {
   "cell_type": "code",
   "execution_count": 1,
   "metadata": {},
   "outputs": [
    {
     "name": "stdout",
     "output_type": "stream",
     "text": [
      "Hello, Python!\n"
     ]
    }
   ],
   "source": [
    "print(\"Hello, Python!\")"
   ]
  },
  {
   "cell_type": "code",
   "execution_count": 3,
   "metadata": {},
   "outputs": [],
   "source": [
    "import numpy as np\n",
    "import pandas as pd\n",
    "import matplotlib.pyplot as plt\n",
    "from sklearn.linear_model import LinearRegression\n",
    "from sklearn.linear_model import LogisticRegression\n",
    "from sklearn.metrics import accuracy_score\n",
    "from sklearn.metrics import confusion_matrix\n",
    "import seaborn as sns\n"
   ]
  }
 ],
 "metadata": {
  "kernelspec": {
   "display_name": "Python 3",
   "language": "python",
   "name": "python3"
  },
  "language_info": {
   "codemirror_mode": {
    "name": "ipython",
    "version": 3
   },
   "file_extension": ".py",
   "mimetype": "text/x-python",
   "name": "python",
   "nbconvert_exporter": "python",
   "pygments_lexer": "ipython3",
   "version": "3.10.15"
  }
 },
 "nbformat": 4,
 "nbformat_minor": 2
}
