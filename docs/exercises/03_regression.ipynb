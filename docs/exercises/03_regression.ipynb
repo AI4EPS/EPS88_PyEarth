{
 "cells": [
  {
   "cell_type": "markdown",
   "metadata": {},
   "source": [
    "# PyEarth: A Python Introduction to Earth Science\n",
    "\n",
    "## Linear Regression in Earth Science"
   ]
  },
  {
   "cell_type": "code",
   "execution_count": 1,
   "metadata": {},
   "outputs": [],
   "source": [
    "import json\n",
    "import pandas as pd\n",
    "import fsspec\n",
    "import matplotlib.pyplot as plt\n",
    "import numpy as np"
   ]
  },
  {
   "cell_type": "markdown",
   "metadata": {},
   "source": [
    "### Part 1: Data Exploration\n",
    "\n",
    "1. Load the Ridgecrest earthquake data."
   ]
  },
  {
   "cell_type": "code",
   "execution_count": 2,
   "metadata": {},
   "outputs": [],
   "source": [
    "# M6.0 earthquake used in class\n",
    "# json_url = \"https://earthquake.usgs.gov/product/shakemap/ci38443183/atlas/1594160017984/download/stationlist.json\"\n",
    "\n",
    "# M7.1 earthquake for assignment\n",
    "json_url = \"https://earthquake.usgs.gov/product/shakemap/ci38457511/atlas/1594160054783/download/stationlist.json\"\n",
    "\n",
    "with fsspec.open(json_url) as f:\n",
    "    data = json.load(f)\n",
    "\n",
    "def parse_data(data):\n",
    "    rows = []\n",
    "    for line in data[\"features\"]:\n",
    "        rows.append({\n",
    "            \"station_id\": line[\"id\"],\n",
    "            \"longitude\": line[\"geometry\"][\"coordinates\"][0],\n",
    "            \"latitude\": line[\"geometry\"][\"coordinates\"][1],\n",
    "            \"pga\": line[\"properties\"][\"pga\"], # unit: %g\n",
    "            \"pgv\": line[\"properties\"][\"pgv\"], # unit: cm/s\n",
    "            \"distance\": line[\"properties\"][\"distance\"],\n",
    "        }\n",
    "    )\n",
    "    return pd.DataFrame(rows)\n",
    "\n",
    "data = parse_data(data)\n",
    "data = data[(data[\"pga\"] != \"null\") & (data[\"pgv\"] != \"null\")]\n",
    "data = data[~data[\"station_id\"].str.startswith(\"DYFI\")]\n",
    "data = data.dropna()\n",
    "data = data.sort_values(by=\"distance\", ascending=True)\n",
    "data[\"logR\"] = data[\"distance\"].apply(lambda x: np.log10(float(x)))\n",
    "data[\"logPGA\"] = data[\"pga\"].apply(lambda x: np.log10(float(x)))\n",
    "data[\"logPGV\"] = data[\"pgv\"].apply(lambda x: np.log10(float(x)))"
   ]
  },
  {
   "cell_type": "markdown",
   "metadata": {},
   "source": [
    "2. Use pandas to print the first few rows of the data. Understand what each column means."
   ]
  },
  {
   "cell_type": "code",
   "execution_count": null,
   "metadata": {},
   "outputs": [],
   "source": []
  },
  {
   "cell_type": "markdown",
   "metadata": {},
   "source": [
    "3. Create a scatter plot of latitude vs. longitude, with point colors representing PGA values."
   ]
  },
  {
   "cell_type": "code",
   "execution_count": null,
   "metadata": {},
   "outputs": [],
   "source": []
  },
  {
   "cell_type": "markdown",
   "metadata": {},
   "source": [
    "4. Calculate and print the mean and standard deviation of PGA values."
   ]
  },
  {
   "cell_type": "code",
   "execution_count": null,
   "metadata": {},
   "outputs": [],
   "source": []
  },
  {
   "cell_type": "markdown",
   "metadata": {},
   "source": [
    "### Part 2: Simple Linear Regression\n",
    "\n",
    "1. Create a scatter plot of log(PGA) vs. log(R)."
   ]
  },
  {
   "cell_type": "code",
   "execution_count": null,
   "metadata": {},
   "outputs": [],
   "source": []
  },
  {
   "cell_type": "markdown",
   "metadata": {},
   "source": [
    "2. Use scikit-learn to fit a linear regression model to this data.\n"
   ]
  },
  {
   "cell_type": "code",
   "execution_count": null,
   "metadata": {},
   "outputs": [],
   "source": []
  },
  {
   "cell_type": "markdown",
   "metadata": {},
   "source": [
    "3. Print the slope and intercept of the fitted line."
   ]
  },
  {
   "cell_type": "code",
   "execution_count": null,
   "metadata": {},
   "outputs": [],
   "source": []
  },
  {
   "cell_type": "markdown",
   "metadata": {},
   "source": [
    "4. Calculate and print the R-squared value of the model."
   ]
  },
  {
   "cell_type": "code",
   "execution_count": null,
   "metadata": {},
   "outputs": [],
   "source": []
  },
  {
   "cell_type": "markdown",
   "metadata": {},
   "source": [
    "### Part 3: Residual Analysis\n",
    "\n",
    "1. Calculate the residuals of your model."
   ]
  },
  {
   "cell_type": "code",
   "execution_count": null,
   "metadata": {},
   "outputs": [],
   "source": []
  },
  {
   "cell_type": "markdown",
   "metadata": {},
   "source": [
    "2. Create a residual plot residuals vs. log(R). "
   ]
  },
  {
   "cell_type": "code",
   "execution_count": null,
   "metadata": {},
   "outputs": [],
   "source": []
  },
  {
   "cell_type": "markdown",
   "metadata": {},
   "source": [
    "3. Comment on any patterns you observe in the residual plot."
   ]
  },
  {
   "cell_type": "code",
   "execution_count": null,
   "metadata": {},
   "outputs": [],
   "source": []
  },
  {
   "cell_type": "markdown",
   "metadata": {},
   "source": [
    "4. Find the actual PGA value recorded in Los Angeles for the Ridgecrest earthquake using the USGS ShakeMap.\n",
    "\n",
    "USGS ShakeMap: [https://earthquake.usgs.gov/earthquakes/eventpage/ci38457511/shakemap/pga](https://earthquake.usgs.gov/earthquakes/eventpage/ci38457511/shakemap/pga)\n",
    "\n",
    "Note that we are working on the M7.1 earthquake."
   ]
  },
  {
   "cell_type": "code",
   "execution_count": null,
   "metadata": {},
   "outputs": [],
   "source": []
  },
  {
   "cell_type": "markdown",
   "metadata": {},
   "source": [
    "5. Use your model to predict the PGA in the Los Angeles basin (hint: use distance of the station you selected)."
   ]
  },
  {
   "cell_type": "code",
   "execution_count": null,
   "metadata": {},
   "outputs": [],
   "source": []
  },
  {
   "cell_type": "markdown",
   "metadata": {},
   "source": [
    "6. Compare this value to your model's prediction. Discuss possible reasons for any differences.\n"
   ]
  },
  {
   "cell_type": "code",
   "execution_count": null,
   "metadata": {},
   "outputs": [],
   "source": []
  }
 ],
 "metadata": {
  "kernelspec": {
   "display_name": "base",
   "language": "python",
   "name": "python3"
  },
  "language_info": {
   "codemirror_mode": {
    "name": "ipython",
    "version": 3
   },
   "file_extension": ".py",
   "mimetype": "text/x-python",
   "name": "python",
   "nbconvert_exporter": "python",
   "pygments_lexer": "ipython3",
   "version": "3.10.12"
  }
 },
 "nbformat": 4,
 "nbformat_minor": 2
}
