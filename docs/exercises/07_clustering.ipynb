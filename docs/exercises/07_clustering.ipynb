{
 "cells": [
  {
   "cell_type": "markdown",
   "metadata": {},
   "source": [
    "# PyEarth: A Python Introduction to Earth Science\n",
    "\n",
    "## Sklearn: Unsupervised Learning: Clustering"
   ]
  },
  {
   "cell_type": "code",
   "execution_count": 1,
   "metadata": {},
   "outputs": [],
   "source": [
    "import pandas as pd\n",
    "import numpy as np\n",
    "import matplotlib.pyplot as plt\n",
    "from sklearn.preprocessing import StandardScaler\n",
    "from sklearn.decomposition import PCA\n",
    "from sklearn.cluster import KMeans, DBSCAN, AgglomerativeClustering"
   ]
  },
  {
   "cell_type": "code",
   "execution_count": 5,
   "metadata": {},
   "outputs": [],
   "source": [
    "# Load rock sample data\n",
    "data = pd.read_csv('data/rock_samples.csv')"
   ]
  },
  {
   "cell_type": "markdown",
   "metadata": {},
   "source": [
    "### 1. Data Exploration\n",
    "- Create a scatter plot of two randomly chosen components"
   ]
  },
  {
   "cell_type": "code",
   "execution_count": null,
   "metadata": {},
   "outputs": [],
   "source": []
  },
  {
   "cell_type": "markdown",
   "metadata": {},
   "source": [
    "### 2. Apply PCA\n",
    "- Standardize the features\n",
    "- Apply PCA to reduce dimensionality to 2 components\n",
    "- Plot rock samples using the first two principal components"
   ]
  },
  {
   "cell_type": "code",
   "execution_count": null,
   "metadata": {},
   "outputs": [],
   "source": []
  },
  {
   "cell_type": "markdown",
   "metadata": {},
   "source": [
    "### 3. Apply K-means clustering method\n",
    "- Apply K-Means to the Rock samples (hint: apply to the original rocks samples not the transformed data)\n",
    "- Create a plot to visualize the results (hint: use the first two principal components from PCA as x and y coordinates)\n",
    "- How many clusters are there? And what parameters did you use to determine this?"
   ]
  },
  {
   "cell_type": "code",
   "execution_count": null,
   "metadata": {},
   "outputs": [],
   "source": []
  },
  {
   "cell_type": "markdown",
   "metadata": {},
   "source": [
    "### 4. Apply DBSCAN clustering method\n",
    "- Apply DBSCAN to the Rock samples\n",
    "- Create a plot to visualize the results\n",
    "- How many clusters are there? And what parameters did you use to determine this?"
   ]
  },
  {
   "cell_type": "code",
   "execution_count": null,
   "metadata": {},
   "outputs": [],
   "source": []
  },
  {
   "cell_type": "markdown",
   "metadata": {},
   "source": [
    "### 5. Apply Hierarchical clustering method\n",
    "- Apply Hierarchical clustering to the Rock samples\n",
    "- Create a plot to visualize the results\n",
    "- How many clusters are there? And what parameters did you use to determine this?\n"
   ]
  },
  {
   "cell_type": "code",
   "execution_count": null,
   "metadata": {},
   "outputs": [],
   "source": []
  },
  {
   "cell_type": "markdown",
   "metadata": {},
   "source": [
    "### 6. Compare with true rock types\n",
    "- Load the true rock types\n",
    "- Create a plot of the actual rock types (hint: loop through the rock types to plot)\n",
    "- Comment on how well the clustering methods performed"
   ]
  },
  {
   "cell_type": "code",
   "execution_count": 3,
   "metadata": {},
   "outputs": [],
   "source": [
    "# Load true rock types\n",
    "rock_types = pd.read_csv('data/rock_types.csv')\n",
    "\n",
    "#"
   ]
  },
  {
   "cell_type": "markdown",
   "metadata": {},
   "source": [
    "### 7. Discussion\n",
    "- Write a brief discussion about the clustering results and how they compare to the true rock types"
   ]
  },
  {
   "cell_type": "markdown",
   "metadata": {},
   "source": []
  },
  {
   "cell_type": "markdown",
   "metadata": {},
   "source": [
    "### Bonus: Experiment with different parameters\n",
    "- Try different parameters for each clustering method and observe the changes in results\n",
    "- Compare clustering results on the original scaled data and the PCA-reduced data\n",
    "- Comment on the changes in results"
   ]
  },
  {
   "cell_type": "code",
   "execution_count": null,
   "metadata": {},
   "outputs": [],
   "source": []
  }
 ],
 "metadata": {
  "kernelspec": {
   "display_name": "base",
   "language": "python",
   "name": "python3"
  },
  "language_info": {
   "codemirror_mode": {
    "name": "ipython",
    "version": 3
   },
   "file_extension": ".py",
   "mimetype": "text/x-python",
   "name": "python",
   "nbconvert_exporter": "python",
   "pygments_lexer": "ipython3",
   "version": "3.10.12"
  }
 },
 "nbformat": 4,
 "nbformat_minor": 2
}
