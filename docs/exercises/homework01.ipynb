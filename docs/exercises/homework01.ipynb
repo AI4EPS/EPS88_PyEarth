{
 "cells": [
  {
   "cell_type": "markdown",
   "metadata": {},
   "source": [
    "# Homework 01 of EPS 88\n",
    "\n",
    "The goal of this course is to empower you to learn about the Earth using computation.\n",
    "\n",
    "The tools of data science enable us to learn about the Earth through the approaches of:\n",
    "- Exploration\n",
    "  - Identifying patterns in data through visualization\n",
    "- Inference\n",
    "  - Using data to obtain reliable insights about the Earth through the application of statistics\n",
    "- Prediction\n",
    "  - Use analysis of data we can observe to make informed predictions of things we cannot observe using machine learning\n",
    "\n",
    "You should have taken Data 8, be taking it concurrently, or have other experience with Python outside of the context of Data 8. All Data 8 materials including lecture videos are openly available which does enable self-study: http://www.data8.org/fa24/ as is the Data 8 textbook: https://inferentialthinking.com/chapters/intro.html"
   ]
  },
  {
   "cell_type": "markdown",
   "metadata": {},
   "source": [
    "## The Jupyter notebook environment\n",
    "\n",
    "The Jupyter notebook environment is the environment we will be habitating this semester in EPS 88.\n",
    "\n",
    "### Markdown cells\n",
    "\n",
    "This cell is Markdown text. It is the cell type where we can type text that isn't code. Go ahead and double click in this cell and you will see that you can edit it. **Type something here:**"
   ]
  },
  {
   "cell_type": "markdown",
   "metadata": {},
   "source": [
    "### Code cells\n",
    "\n",
    "Let's get going right away by dealing with some data within this Jupyter notebook. The first bit of code you will run is in the cell below. This is a code cell rather than a markdown cell (you can change the cell type using the drop-down box above). You can either hit the play button above, or more efficiently press *shift+enter* on your keyboard to run the code."
   ]
  },
  {
   "cell_type": "code",
   "execution_count": 1,
   "metadata": {},
   "outputs": [],
   "source": [
    "#This cell is a code cell. It is where we can type code that \n",
    "#can be run. The hashtag at the start of this line makes it \n",
    "#so that this text is a comment not code. \n",
    "\n",
    "import pandas as pd\n",
    "pd.set_option('display.max_columns', None)"
   ]
  },
  {
   "cell_type": "markdown",
   "metadata": {},
   "source": [
    "The reason why we execute the code ```import pandas as pd``` is so that we can use the functions of the ```pandas``` library which provides really helpful data structures and data analysis tools. We are using the standard convention of importing it using the nickname ```pd```. One of the fantastic things about doing data analysis in Python is the availability of great data analysis tools such as ```pandas```. One of the frustrating things can be learning how to use these diverse tools and which to use when. You will get more and more comfortable with these tools as the term progresses."
   ]
  },
  {
   "cell_type": "markdown",
   "metadata": {},
   "source": [
    "# Finding Birthquakes\n",
    "\n",
    "Your birthquake is the largest magnitude earthquake that occured on the day you were born. In this in-class exercise, we are going to search an earthquake catalog and find your birthquake.\n",
    "\n",
    "To do so, we can going to download data from the US Geological Survey (USGS) Earthquake Hazards program. https://earthquake.usgs.gov\n",
    "\n",
    "We are going to use an API that lets us send an url to the USGS and get earthquake information for a set of specified parameters. \n",
    "\n",
    "## Finding my birthquake\n",
    "\n",
    "Let's do it first for my birthday. We will define my birthday in year-month-day format and the day after my birthday in year-month-day format in order to make a url that gets data starting on 12 am of your birthday and ending 12 am of the next day. We are putting the quote marks (' ') around the dates so that they are **strings** (the Python data type that is a sequence of text)."
   ]
  },
  {
   "cell_type": "code",
   "execution_count": 2,
   "metadata": {},
   "outputs": [],
   "source": [
    "## e.g., my_birthday = '1990-01-01'\n"
   ]
  },
  {
   "cell_type": "markdown",
   "metadata": {},
   "source": [
    "What we just did in the code above is to create the variable ```my_birthday``` and assign it to be set to be the string 'year-mm-dd'. Run a code cell with just that variable, and show the variable as the code output."
   ]
  },
  {
   "cell_type": "code",
   "execution_count": null,
   "metadata": {},
   "outputs": [],
   "source": []
  },
  {
   "cell_type": "markdown",
   "metadata": {},
   "source": [
    "Another way to see the variable is to tell python to print it using the ```print()``` function."
   ]
  },
  {
   "cell_type": "code",
   "execution_count": null,
   "metadata": {},
   "outputs": [],
   "source": []
  },
  {
   "cell_type": "markdown",
   "metadata": {},
   "source": [
    "We are going to need to tell the USGS to look for earthquakes that are bracketed between the start of the day on my birthday and the end of the day on my birthday for which we can assign a variable named `day_after_my_birthday`. Python variable names cannot have spaces in them which is why I am using underscores `_`."
   ]
  },
  {
   "cell_type": "code",
   "execution_count": 3,
   "metadata": {},
   "outputs": [],
   "source": [
    "## e.g., day_after_my_birthday = '1990-01-02'\n"
   ]
  },
  {
   "cell_type": "markdown",
   "metadata": {},
   "source": [
    "### Defining my birthday earthquake URL\n",
    "\n",
    "To make a url that we can send to the USGS and get back data, we need to insert these dates into the USGS earthquake API url format (https://earthquake.usgs.gov/fdsnws/event/1/). API stands for 'application programming interface' and an API url path provides a way to access data that are available online. A nice thing about using an API url to access data is that it makes code portable and reproducible as the code can grab the data from the internet without needing a local copy.\n",
    "\n",
    "We will define the `standard_url` as a string and include that we want to get the data as a `csv` with `format=csv` and that we want the data to be in the order of magitude with `&orderby=magnitude`. We can then add the dates that were set above to be the `&starttime` and `&endtime`."
   ]
  },
  {
   "cell_type": "code",
   "execution_count": null,
   "metadata": {},
   "outputs": [],
   "source": [
    "standard_url = 'https://earthquake.usgs.gov/fdsnws/event/1/query?format=csv&orderby=magnitude'\n",
    "\n",
    "my_birthquake_url = (standard_url + '&starttime=' + \n",
    "                       my_birthday + '&endtime=' + \n",
    "                       day_after_my_birthday)"
   ]
  },
  {
   "cell_type": "markdown",
   "metadata": {},
   "source": [
    "Take a look at the url that is created:"
   ]
  },
  {
   "cell_type": "code",
   "execution_count": null,
   "metadata": {},
   "outputs": [],
   "source": [
    "my_birthquake_url"
   ]
  },
  {
   "cell_type": "code",
   "execution_count": null,
   "metadata": {},
   "outputs": [],
   "source": [
    "print(my_birthquake_url)"
   ]
  },
  {
   "cell_type": "markdown",
   "metadata": {},
   "source": [
    "### Getting my's birthday earthquakes\n",
    "\n",
    "We now have a url that we can use to get data from the USGS. We could cut and paste this url into a web browser. Go ahead and give that a try.\n",
    "\n",
    "Alternatively, we can use functions from the `pandas` module that we imported at the top of this notebook to get these data. The standard way to use ```pandas``` is to import it with the shorthand ```pd```. We will use the ```pd.read_csv()``` function which will take the data that comes from the USGS url and make it into a `DataFrame`. A `DataFrame` is a data structure with columns of different data that are defined with column names."
   ]
  },
  {
   "cell_type": "code",
   "execution_count": 6,
   "metadata": {},
   "outputs": [],
   "source": [
    "## e.g., my_birthday_earthquakes = pd.read_csv(my_birthquake_url)\n"
   ]
  },
  {
   "cell_type": "markdown",
   "metadata": {},
   "source": [
    "These data are sorted by magnitude with the largest magnitude earthquakes at top. Let's look at the first 5 rows of the DataFrame using the ```.head()``` function."
   ]
  },
  {
   "cell_type": "code",
   "execution_count": null,
   "metadata": {},
   "outputs": [],
   "source": []
  },
  {
   "cell_type": "markdown",
   "metadata": {},
   "source": [
    "We can just look at values in one row by applying the ```.loc``` function to the DataFrame and calling the index 0. Python is zero-indexed (just like human ages!) so the first row is row zero. Please apply .loc to the first row to see all the details about my birthquake."
   ]
  },
  {
   "cell_type": "code",
   "execution_count": null,
   "metadata": {},
   "outputs": [],
   "source": []
  },
  {
   "cell_type": "markdown",
   "metadata": {},
   "source": [
    "It can be useful to return a single value which can be done by calling both the the row and the column using the ```.loc``` function. Please apply .loc to the first row and the column 'mag' to see the magnitude of my birthquake."
   ]
  },
  {
   "cell_type": "code",
   "execution_count": null,
   "metadata": {},
   "outputs": [],
   "source": []
  },
  {
   "cell_type": "markdown",
   "metadata": {},
   "source": [
    "What is the magnitude of your birthquake? Where did it occur? Use print statements to show your answers."
   ]
  },
  {
   "cell_type": "code",
   "execution_count": null,
   "metadata": {},
   "outputs": [],
   "source": []
  },
  {
   "cell_type": "markdown",
   "metadata": {},
   "source": [
    "What is the largest earthquake of your birthquake day? Use '.sort_values()' function to sort the DataFrame and print the first row, which is the largest earthquake of your birthquake day."
   ]
  },
  {
   "cell_type": "code",
   "execution_count": null,
   "metadata": {},
   "outputs": [],
   "source": []
  },
  {
   "cell_type": "markdown",
   "metadata": {},
   "source": [
    "When working with Python for this course, you are going to get errors. I get errors almost everyday. Programming languages are not flexible and want things to be just so. \n",
    "\n",
    "Error messages can look quite intimidating, but they often are informative (particularly if you look at the bottom). For example, the code cell below should result in an error. Go ahead and execute it and let's have a look at the result."
   ]
  },
  {
   "cell_type": "code",
   "execution_count": 10,
   "metadata": {},
   "outputs": [],
   "source": [
    "my_birthday_earthquakes.loc[0]['birthday_cake']"
   ]
  },
  {
   "cell_type": "markdown",
   "metadata": {
    "slideshow": {
     "slide_type": "-"
    }
   },
   "source": [
    "# Map projections and making your birthquake map\n",
    "\n",
    "The purpose of this introduction is to give you a bit of a background on map projections and other geospatial concepts. This will help you to:\n",
    " \n",
    " * choose map projections that are appropriate for plotting data\n",
    " * understand the terms used in the ```cartopy``` functions which is a function library we will use for plotting geospatial data"
   ]
  },
  {
   "cell_type": "markdown",
   "metadata": {
    "slideshow": {
     "slide_type": "-"
    }
   },
   "source": [
    "# The world *is not* flat / 2D (sorry flat-Earthers)\n",
    "\n",
    "<img src=\"figures/azim-eq.png\" style=\"max-height: 55vh; margin-left: auto; margin-right: auto;\">\n",
    "\n",
    "\"Azimuthal equidistant projections of the sphere ... have been co-opted as images of the flat Earth model, depicting Antarctica as an ice wall surrounding a disk-shaped Earth.\" ([Wikipedia: Flat Earth](https://en.wikipedia.org/wiki/Flat_Earth#Flat_Earth_Society))"
   ]
  },
  {
   "cell_type": "markdown",
   "metadata": {
    "slideshow": {
     "slide_type": "-"
    }
   },
   "source": [
    "## Most of our media for visualization *are* flat\n",
    "\n",
    "Our two most common media are flat:\n",
    "\n",
    " * Paper\n",
    " * Screen"
   ]
  },
  {
   "cell_type": "markdown",
   "metadata": {
    "slideshow": {
     "slide_type": "-"
    }
   },
   "source": [
    "### But there are *a few* that aren't...\n",
    "\n",
    "For example:\n",
    "\n",
    " * 3D rendering engine (the engine is then typically responsible for projecting the data to 2D for presentation to screen)\n",
    " * A Spherical Projector...\n"
   ]
  },
  {
   "cell_type": "markdown",
   "metadata": {
    "slideshow": {
     "slide_type": "-"
    }
   },
   "source": [
    "## [Map] Projections: Taking us from spherical to flat\n",
    "\n",
    "A map projection (or more commonly refered to as just \"projection\") is:\n",
    "\n",
    "> a systematic transformation of the latitudes and longitudes of locations from the surface of a sphere or an ellipsoid into locations on a plane. [[Wikipedia: Map projection](https://en.wikipedia.org/wiki/Map_projection)]."
   ]
  },
  {
   "cell_type": "markdown",
   "metadata": {
    "slideshow": {
     "slide_type": "-"
    }
   },
   "source": [
    "## The major problem with map projections\n",
    "\n",
    "<img src=\"figures/orange_peel.jpg\" style=\"margin-left: auto; margin-right: auto;\">\n",
    "\n",
    " * The surface of a sphere is topologically different to a 2D surface, therefore we *have* to cut the sphere *somewhere*\n",
    " * A sphere's surface cannot be represented on a plane without distortion.\n",
    " \n",
    "**Watch the video embedded below** (*click the notebook play button to embed it in the notebook or watch it at this link: https://youtu.be/kIID5FDi2JQ*). This video gives an introduction (with nice accompanying visualizations) of this issue and different projections along with the positives and negatives of different commonly used ones."
   ]
  },
  {
   "cell_type": "code",
   "execution_count": null,
   "metadata": {
    "slideshow": {
     "slide_type": "-"
    }
   },
   "outputs": [],
   "source": [
    "from IPython.lib.display import YouTubeVideo\n",
    "YouTubeVideo('kIID5FDi2JQ')"
   ]
  },
  {
   "cell_type": "markdown",
   "metadata": {},
   "source": [
    "### Different projections\n",
    "\n",
    "We are going to use the function library `cartopy` to make maps. `cartopy`  supports a number of different map projections which enable the 3 dimensional surface of Earth to be shown in 2 dimensions on our computer screens. Having watched the above video will give you some context to appreciate these jokes:\n",
    "\n",
    "<img src=\"figures/map_projections.png\" style=\"margin-left: auto; margin-right: auto;\">\n",
    "\n",
    "You can check out the list of projections supported by `cartopy` here: https://scitools.org.uk/cartopy/docs/v0.15/crs/projections.html"
   ]
  },
  {
   "cell_type": "markdown",
   "metadata": {
    "slideshow": {
     "slide_type": "-"
    }
   },
   "source": [
    "### Common distortions of map projections\n",
    "\n",
    "Properties of maps that are often not preserved in projections:\n",
    "\n",
    "* Area\n",
    "* Shape\n",
    "* Direction\n",
    "* Distance\n",
    "* Scale"
   ]
  },
  {
   "cell_type": "markdown",
   "metadata": {
    "slideshow": {
     "slide_type": "-"
    }
   },
   "source": [
    "> all ~~models~~ map projections are wrong, but some are useful - Phileas Elson (SciPy 2018)"
   ]
  },
  {
   "cell_type": "markdown",
   "metadata": {
    "slideshow": {
     "slide_type": "-"
    }
   },
   "source": [
    "## Classifying projections\n",
    "\n",
    "Two common approaches:\n",
    "\n",
    " 1. By [2D] surface classification\n",
    " 2. By preserving a given property (metric)"
   ]
  },
  {
   "cell_type": "markdown",
   "metadata": {
    "slideshow": {
     "slide_type": "-"
    }
   },
   "source": [
    "### Projections by surface classification\n",
    "\n",
    "<!-- ![](./figures/projections.png) -->\n",
    "<img src=\"figures/projections.png\">\n",
    "\n",
    "*Downside: Not all projections can be classified in this way -> Leads to big \"pseudo\" and \"other\" groups.*"
   ]
  },
  {
   "cell_type": "markdown",
   "metadata": {
    "slideshow": {
     "slide_type": "-"
    }
   },
   "source": [
    "## Surface classification: Cylindrical\n",
    "\n",
    "<img src=\"figures/cylindrical.png\">\n",
    "<p style=\"font-size: xx-small; float: right;\">\n",
    "Source: http://ayresriverblog.com/2011/05/19/the-world-is-flat/\n",
    "</p>\n",
    "\n",
    "\n",
    "* Meridians and paralells are straight and perpendicular.\n"
   ]
  },
  {
   "cell_type": "markdown",
   "metadata": {
    "slideshow": {
     "slide_type": "-"
    }
   },
   "source": [
    "## Surface classification: Azimuthal\n",
    "\n",
    "<img src=\"figures/azimuthal.png\">\n",
    "<p style=\"font-size: xx-small; float: right;\">\n",
    "Source: http://ayresriverblog.com/2011/05/19/the-world-is-flat/\n",
    "</p>\n",
    "\n",
    "\n",
    "* Parallels are complete circles\n",
    "* Great circles from central point are straight lines."
   ]
  },
  {
   "cell_type": "markdown",
   "metadata": {
    "slideshow": {
     "slide_type": "-"
    }
   },
   "source": [
    "## Surface classification: Conic\n",
    "<img src=\"figures/conic.png\">\n",
    "<p style=\"font-size: xx-small; float: right;\">\n",
    "Source: http://ayresriverblog.com/2011/05/19/the-world-is-flat/\n",
    "</p>\n",
    "\n",
    "* Meridians are straight equally-spaced lines\n",
    "* Parallels are circular arcs."
   ]
  },
  {
   "cell_type": "markdown",
   "metadata": {
    "slideshow": {
     "slide_type": "-"
    }
   },
   "source": [
    "### Projections by preserving metric\n",
    "\n",
    "Downside: Some projections can live in multiple groups."
   ]
  },
  {
   "cell_type": "markdown",
   "metadata": {
    "slideshow": {
     "slide_type": "-"
    }
   },
   "source": [
    "## Preserving metric: Conformal\n",
    "\n",
    "Also known as Orthomorphic.\n",
    "\n",
    "These projections preserve angles locally. Implying that circles anywhere on the Earth's surface map to circles of *varying size* in the projected space.\n",
    "\n",
    "Examples of conformal projections:\n",
    "\n",
    " * Mercator\n",
    " * Transverse Mercator\n",
    " * Stereographic\n",
    " * Lambert conformal conic"
   ]
  },
  {
   "cell_type": "markdown",
   "metadata": {
    "slideshow": {
     "slide_type": "-"
    }
   },
   "source": [
    "## Preserving metric: Conformal\n",
    "\n",
    "### Use in large scale maps (zoomed in)\n",
    "\n",
    "Often used to preserve shape to represent their physical counterpart.\n",
    "Seamless online maps like OSM/Google/Bing typically use a Mercator projection although Google Maps has begun using an 3D-rendered globe projection when the user zooms out:\n",
    "\n",
    "> The first launch of [Google] Maps actually did not use Mercator, and streets in high latitude places like Stockholm did not meet at right angles on the map the way they do in reality. [[ref](https://productforums.google.com/d/msg/maps/A2ygEJ5eG-o/KbZr_B0h2hkJ)]\n",
    "\n",
    "The major drawback: it is difficult to compare lengths or areas"
   ]
  },
  {
   "cell_type": "markdown",
   "metadata": {
    "slideshow": {
     "slide_type": "-"
    }
   },
   "source": [
    "## Preserving metric: Conformal\n",
    "\n",
    "### Use in small scale maps (zoomed out)\n",
    "\n",
    "Maps reflecting directions, such as an [aero]nautical chart, or whose gradients are important,\n",
    "such as a weather maps, are often projected by conformal projections.\n",
    "\n",
    "Historically, many world maps are drawn by conformal projections, but the fact that the scale of the map\n",
    "varies by location makes it difficult to compare lengths or areas.\n",
    "Some have gone as far as calling the Mercator projection imperialistic and racist.\n"
   ]
  },
  {
   "cell_type": "markdown",
   "metadata": {
    "slideshow": {
     "slide_type": "-"
    }
   },
   "source": [
    "## Preserving metric: Equidistant\n",
    "\n",
    "No map projection can be universally equidistant.\n",
    "\n",
    "Some projections preserve distance from some standard point or line.\n",
    "\n",
    "Examples of projections that preserve distances along meridians (but not parallels):\n",
    "\n",
    " * Equirectangular / Plate Carree\n",
    " * Azimuthal equidistant\n"
   ]
  },
  {
   "cell_type": "markdown",
   "metadata": {
    "slideshow": {
     "slide_type": "-"
    }
   },
   "source": [
    "## Preserving metric: Equal-area\n",
    "\n",
    "\n",
    "Equal-area maps preserve area measure, generally distorting shapes in order to do so.\n",
    "\n",
    "Examples of equal area projections:\n",
    " * Albers conic\n",
    " * Eckert IV\n",
    " * Goode's homolosine\n",
    " * Lambert azimuthal equal-area\n",
    " * Lambert cylindrical equal-area\n",
    " * Mollweide\n",
    " * Sinusoidal"
   ]
  },
  {
   "cell_type": "markdown",
   "metadata": {
    "slideshow": {
     "slide_type": "-"
    }
   },
   "source": [
    "## Preserving metric: Compromise\n",
    "\n",
    "Rather than perfectly preserving any metric properties, compromise\n",
    "projections aim strike a balance between distortions.\n",
    "These compromises are often at the cost of polar distortions.\n",
    "\n",
    "Examples:\n",
    "    \n",
    " * Miller\n",
    " * Robinson\n",
    " * Winkel Tripel"
   ]
  },
  {
   "cell_type": "markdown",
   "metadata": {
    "slideshow": {
     "slide_type": "-"
    }
   },
   "source": [
    "## Tissot's indicatrix\n",
    "\n",
    "A mathematical contrivance in order to characterize local distortions of a map projection. Multiple circles (on the sphere/ellipse) of constant area are drawn on the map. By analysing the distortions, we can identify (or more often rule-out) particular preserving metrics. You can see how dramatic the distortion is in an equirectangular projection. \n",
    "\n",
    "\n",
    "<img src=\"figures/tissot.platecarree.1000km.png\" style=\"margin-left: auto; margin-right: auto;\">\n"
   ]
  },
  {
   "cell_type": "markdown",
   "metadata": {},
   "source": [
    "## Now let's make your first map!\n",
    "\n",
    "We are going to use ```cartopy``` in conjunction with ```matplotlib``` to make maps. ```cartopy``` can transform points, lines and images into different map projections. ```matplotlib``` provides tools to visualize these projections. We will import them using the standard conventions. **You must press play (or more efficiently shift+enter) on the cell that imports these function libraries for the rest of the code to work.**"
   ]
  },
  {
   "cell_type": "code",
   "execution_count": 12,
   "metadata": {},
   "outputs": [],
   "source": [
    "import cartopy.crs as ccrs\n",
    "import matplotlib.pyplot as plt"
   ]
  },
  {
   "cell_type": "markdown",
   "metadata": {},
   "source": [
    "The syntax of using these functions takes some getting used to. Here we will make a figure, create an axis object with a defined projection, and then plot coastlines and a stock image that shows elevation."
   ]
  },
  {
   "cell_type": "code",
   "execution_count": null,
   "metadata": {},
   "outputs": [],
   "source": [
    "plt.figure(figsize=(8, 4))\n",
    "ax = plt.axes(projection=ccrs.Mollweide())\n",
    "ax.coastlines()\n",
    "ax.stock_img()\n",
    "plt.show()"
   ]
  },
  {
   "cell_type": "markdown",
   "metadata": {},
   "source": [
    "Let's plot the location of Berkeley on a map. First we want to assign the latitude and longitude of Berkeley to variables:"
   ]
  },
  {
   "cell_type": "code",
   "execution_count": 14,
   "metadata": {},
   "outputs": [],
   "source": [
    "Berkeley_latitude = 37.8715\n",
    "Berkeley_longitude = -122.2730"
   ]
  },
  {
   "cell_type": "markdown",
   "metadata": {},
   "source": [
    "Now we can use the ```plt.scatter()``` function to plot the location of Berkeley. ```plt.scatter()``` is one of the many plotting functions available using the ```matplotlib``` library that we imported above using ```import matplotlib.pyplot as plt```.\n",
    "\n",
    "We give the ```plt.scatter()``` function ```Berkeley_longitude``` as the x-value, ```Berkeley_latitude``` as the y-value while also telling it to transform it into map coordinates (```transform=ccrs.PlateCarree()```) and to make the point red (```color='red'```). "
   ]
  },
  {
   "cell_type": "code",
   "execution_count": null,
   "metadata": {},
   "outputs": [],
   "source": [
    "plt.figure(figsize=(8, 4))\n",
    "ax = plt.axes(projection=ccrs.Mollweide())\n",
    "ax.stock_img()\n",
    "plt.scatter(Berkeley_longitude, Berkeley_latitude, \n",
    "            transform=ccrs.PlateCarree(), color='red')\n",
    "plt.show()"
   ]
  },
  {
   "cell_type": "markdown",
   "metadata": {},
   "source": [
    "Revisit the above notebook when you found your birthquake and enter the latitude of longitude in the cell below assigning them to ```birthquake_latitude``` and ```birthquake_longitude```."
   ]
  },
  {
   "cell_type": "code",
   "execution_count": null,
   "metadata": {},
   "outputs": [],
   "source": [
    "birthquake_longitude = \n",
    "birthquake_latitude = "
   ]
  },
  {
   "cell_type": "markdown",
   "metadata": {},
   "source": [
    "Once ```birthquake_latitude``` and ```birthquake_longitude``` are defined, we can plot them instead of the position of Berkeley. Replace the ellipsis (`...`) with ```birthquake_latitude``` and ```birthquake_longitude``` in the cell below:"
   ]
  },
  {
   "cell_type": "code",
   "execution_count": null,
   "metadata": {},
   "outputs": [],
   "source": [
    "plt.figure(figsize=(8, 4))\n",
    "ax = plt.axes(projection=ccrs.Mollweide())\n",
    "ax.stock_img()\n",
    "plt.scatter(..., ..., \n",
    "            transform=ccrs.PlateCarree(), color='red')\n",
    "plt.show()"
   ]
  },
  {
   "cell_type": "markdown",
   "metadata": {},
   "source": [
    "Now let's plot both the location of Berkeley and the location of your birthquake. Rather than a single values for x (i.e. a single value of longitude) and a single value for y (i.e. a single value of latitude), we want there to be a list of x values and a list of y values. A list can be defined with square brackets with values separated by commas (e.g. ```[value1, value2]```)."
   ]
  },
  {
   "cell_type": "code",
   "execution_count": null,
   "metadata": {},
   "outputs": [],
   "source": [
    "plt.figure(figsize=(8, 4))\n",
    "ax = plt.axes(projection=ccrs.Robinson())\n",
    "ax.stock_img()\n",
    "plt.scatter(\n",
    "    [Berkeley_longitude, birthquake_longitude],\n",
    "    [Berkeley_latitude, birthquake_latitude],\n",
    "    transform=ccrs.PlateCarree(),\n",
    "    color='red')\n",
    "plt.show()"
   ]
  },
  {
   "cell_type": "markdown",
   "metadata": {},
   "source": [
    "We can save the figure using ```plt.savefig()``` putting the name of the file with the extension within the ```()```. In this case, let's call it ```'map_w_Berkeley_and_birthquake.png'```. Let's also go ahead and add a title to the plot using ```plt.title()```."
   ]
  },
  {
   "cell_type": "code",
   "execution_count": null,
   "metadata": {},
   "outputs": [],
   "source": [
    "plt.figure(figsize=(8, 4))\n",
    "ax = plt.axes(projection=ccrs.Robinson())\n",
    "ax.stock_img()\n",
    "plt.scatter(\n",
    "    [Berkeley_longitude, birthquake_longitude],\n",
    "    [Berkeley_latitude, birthquake_latitude],\n",
    "    transform=ccrs.PlateCarree(),\n",
    "    color='red')\n",
    "plt.title('map with location of Berkeley and my Birthquake')\n",
    "plt.savefig('map_w_Berkeley_and_birthquake.png')"
   ]
  },
  {
   "cell_type": "markdown",
   "metadata": {},
   "source": [
    "## Make a map of 5 largest birthdate earthquakes.\n",
    "\n",
    "Use the code cells below to make another map where you plot the locations of the 5 largest magnitude earthquakes that occured on the day you were born. Choose any projection you want (https://scitools.org.uk/cartopy/docs/v0.15/crs/projections.html). You can see that the examples above use Robinson and Mollweide projections.\n",
    "\n",
    "Add a title to the map that has your name in it."
   ]
  },
  {
   "cell_type": "code",
   "execution_count": null,
   "metadata": {},
   "outputs": [],
   "source": []
  },
  {
   "cell_type": "code",
   "execution_count": null,
   "metadata": {},
   "outputs": [],
   "source": []
  },
  {
   "cell_type": "markdown",
   "metadata": {},
   "source": [
    "# Acknowledgments\n",
    "\n",
    "This introductory text is modified by Prof. Nicholas Swanson-Hysell from a tutorial on working with geospatial data using the library ```cartopy``` that was presented at the 2018 Scipy conference by Phileas Elson (lots of great things to learn in this tutorial if you want to dig into it at some point):\n",
    "\n",
    "https://youtu.be/AmidIx6Jmn8\n",
    "\n",
    "https://github.com/SciTools/cartopy-tutorial\n",
    "\n",
    "The materials in the linked to tutorials were licensed with an open license as long as they original source is acknowledged."
   ]
  }
 ],
 "metadata": {
  "kernelspec": {
   "display_name": "Python 3 (ipykernel)",
   "language": "python",
   "name": "python3"
  },
  "language_info": {
   "codemirror_mode": {
    "name": "ipython",
    "version": 3
   },
   "file_extension": ".py",
   "mimetype": "text/x-python",
   "name": "python",
   "nbconvert_exporter": "python",
   "pygments_lexer": "ipython3",
   "version": "3.10.12"
  },
  "livereveal": {
   "auto_select": "none",
   "autolaunch": "true",
   "footer": " ",
   "header": "<script src='/files/static/theme/reveal.js'></script>",
   "start_slideshow_at": "selected"
  },
  "vscode": {
   "interpreter": {
    "hash": "7d3ea8551337eda1592ac3e18399e94476c3eb783b907fc6bd15055dbc6c8ba9"
   }
  }
 },
 "nbformat": 4,
 "nbformat_minor": 4
}
