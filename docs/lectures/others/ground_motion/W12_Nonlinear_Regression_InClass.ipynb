{
 "cells": [
  {
   "cell_type": "markdown",
   "metadata": {
    "tags": [
     "include"
    ]
   },
   "source": [
    " <!-- BEGIN QUESTION -->\n",
    "# Non-linear Regression Assignment\n",
    "\n",
    "Non-linear model fitting\n",
    "\n",
    "**In-class we:**\n",
    "- Tested data fitting using `np.polyfit()`, manual least-squares, and non-linear least-squares `curve_fit()` for two notable M6 earthquakes\n",
    "\n",
    "**Our goals for this assignment:**\n",
    "- Write code using the scipy non-linear least-squares curve_fit() function to invert for the a, b, c `and h (depth)` model parameters. Recall the total distance is a non-linear function of depth\n",
    "- Compare the derived model with a prediction using the Abrahamson and Silva (2008) relationship (included as a defined function) which was constrained by data from 140 earthquakes of various magnitudes.\n",
    "- Examine the behavior of strong ground motion with respect to depth of the fault, and magnitude.\n"
   ]
  },
  {
   "cell_type": "markdown",
   "metadata": {
    "tags": [
     "include"
    ]
   },
   "source": [
    "## Setup\n",
    "\n",
    "Run this cell to setup your environment."
   ]
  },
  {
   "cell_type": "code",
   "execution_count": null,
   "metadata": {
    "tags": [
     "include"
    ]
   },
   "outputs": [],
   "source": [
    "import math\n",
    "import numpy as np\n",
    "import pandas as pd\n",
    "from scipy import stats\n",
    "from scipy.optimize import curve_fit\n",
    "import matplotlib.pyplot as plt\n",
    "import otter"
   ]
  },
  {
   "cell_type": "code",
   "execution_count": null,
   "metadata": {
    "tags": [
     "include"
    ]
   },
   "outputs": [],
   "source": [
    "#Load the data\n",
    "park_pga=pd.read_csv('parkfieldeq_pga.csv')\n",
    "napa_pga=pd.read_csv('napaeq_pga.csv')\n",
    "dist=np.concatenate((np.array(napa_pga['Dist(km)']),np.array(park_pga['Dist(km)'])))\n",
    "pga=np.concatenate((np.array(napa_pga['PGA(g)']),np.array(park_pga['PGA(g)'])))"
   ]
  },
  {
   "cell_type": "markdown",
   "metadata": {
    "tags": [
     "include"
    ]
   },
   "source": [
    "## Exercise 1, Write Code using curve_fit()\n",
    "\n",
    "- Load and combine the Napa and Parkfield earthquake PGA data as was done in class\n",
    "\n",
    "- Write code using the scipy curve_fit() function to estimate the a, b, c and h (depth) parameters. Note that you will need to place bounds on the parameter search.\n",
    "    \n",
    " - Compute the 95% confidence curves for the best fitting model\n",
    "\n"
   ]
  },
  {
   "cell_type": "markdown",
   "metadata": {
    "tags": [
     "include"
    ]
   },
   "source": [
    "#### Write code to perform a non-linear least-squares inversion for the a, b, c and h (depth) model parameters. Plot your results with the 95% confidence bounds"
   ]
  },
  {
   "cell_type": "code",
   "execution_count": null,
   "metadata": {
    "tags": [
     "include"
    ]
   },
   "outputs": [],
   "source": [
    "#GMM model inversion and ground motion analysis\n",
    "#Write code here"
   ]
  },
  {
   "cell_type": "code",
   "execution_count": null,
   "metadata": {
    "tags": [
     "include"
    ]
   },
   "outputs": [],
   "source": [
    "\n"
   ]
  },
  {
   "cell_type": "markdown",
   "metadata": {
    "tags": [
     "include"
    ]
   },
   "source": [
    "- How does your model's parameters including depth (h) compare to what was found in class?\n",
    "\n",
    "- Does the data require a intrinsic attenuation term (c parameter)? You can test this by allowing the bounds for c to have an upper limit of zero (theoretically is should not be larger than zero).\n",
    "\n",
    "- How do the model parameters compare for the two events individually? Are there differences in how well the model is constrained by the two individual data sets?\n",
    "\n",
    "- **Write answers here**"
   ]
  },
  {
   "cell_type": "markdown",
   "metadata": {
    "tags": [
     "include"
    ]
   },
   "source": [
    "## Exercise 2, Abrahamson and Silva (2008) GMPE\n",
    "\n",
    "The GMPE that you developed for the combined Napa and Parkfield earthquake data set is actually quite good, but it is limited to only the two M6 earthquakes. Abrahamson and Silva (2008, AS2008) developed a GMPE considering 2750 recordings from 140 earthquakes ranging in magnitude from 4.27 to 7.62. They report that the derived GMPE is applicable to M 5.0 to 8.5 earthquakes. The following shows the AS2008 relationship for a M7.5 earthquake (black is the median motion, and red is 95% confidence).\n",
    "\n",
    "<img src=\"./as2008.png\">\n",
    "\n",
    "In the following cell the definition AS2008 GMPE for hard rock, considering, distance, magnitude, and the depth to the top of the fault is given. __The function takes three input arguments, an array of distances, a magnitude and the depth to the top of the fault. The output is the natural logarithm of median peak ground acceleration from the AS2008 GMPE (lnpga), and the 95% confidence level (sigma, also in natural log units).__ For M6.5+ events in California we can consider the top of the fault to be at zero depth. A M5 may be at 8 km in comparison.\n"
   ]
  },
  {
   "cell_type": "code",
   "execution_count": null,
   "metadata": {
    "tags": [
     "include"
    ]
   },
   "outputs": [],
   "source": [
    "def as2008(dist,M,Ztor):\n",
    "    \"\"\"\n",
    "    This function takes an array of distances, a magnitude and the depth\n",
    "    and returns the natural logarithm of median peak ground acceleration from the AS2008 GMPE, and the\n",
    "    standard deviation (sigma) in natural log units.\n",
    "    \n",
    "    The function is not the complete AS2008 formulation. It is limited to the hard rock case Vs30=865, and only\n",
    "    computes pga.\n",
    "    \n",
    "    \"\"\"\n",
    "    #Defined by A&S2008 DO NOT CHANGE\n",
    "    c1=6.75;\n",
    "    c4=4.5;\n",
    "    a1=0.804;   #for PGA only this parameter is period dependent\n",
    "    a2=-0.9679; #for PGA only this parameter is period dependent\n",
    "    a3=0.265;\n",
    "    a4=-0.231;\n",
    "    a5=-0.398;\n",
    "    a8=-0.0372; #for PGA only this parameter is period dependent\n",
    "    a16=0.9000; #for PGA only\n",
    "    VLIN=865.1; #for PGA only note for vs30=vlin f5==0\n",
    "    #Defined by A&S2008 DO NOT CHANGE\n",
    "    \n",
    "    R=np.sqrt(dist*dist + c4*c4)      #compute total distance\n",
    "\n",
    "    #Standard Deviation varies from 0.8 for M5 to 0.6 for M7 assume linear in ln\n",
    "    if M <= 7 and M >= 5:\n",
    "        sigma=0.8+(0.8-0.6)/(5-7)*(M-5)\n",
    "\n",
    "    if M > 7:\n",
    "        sigma=0.6;\n",
    "\n",
    "    #Base model\n",
    "    if M <= c1:\n",
    "        f1=a1+a4*(M-c1)+a8*(8.5-M)**2+(a2+a3*(M-c1))*np.log(R)\n",
    "\n",
    "    if M > c1:\n",
    "        f1=a1+a5*(M-c1)+a8*(8.5-M)**2+(a2+a3*(M-c1))*np.log(R)\n",
    "\n",
    "    #Depth of fault\n",
    "    if Ztor <= 10:\n",
    "        f6=Ztor/10*a16\n",
    "\n",
    "    if Ztor > 10:\n",
    "        f6=a16\n",
    "\n",
    "\n",
    "    lnpga=f1 + f6\n",
    "    \n",
    "    return lnpga, sigma"
   ]
  },
  {
   "cell_type": "markdown",
   "metadata": {
    "tags": [
     "include"
    ]
   },
   "source": [
    "**Use the `AS2008` function defined above to compute the GMPE for a M6 earthquake with a top fault depth of 1.0km**\n",
    "\n",
    "**Compare the AS2008 result with the result you obtained by fitting the data**"
   ]
  },
  {
   "cell_type": "code",
   "execution_count": null,
   "metadata": {
    "tags": [
     "include"
    ]
   },
   "outputs": [],
   "source": [
    "#M6 AS2008 GMPE result compared with the non-linear least-squares inversion results"
   ]
  },
  {
   "cell_type": "markdown",
   "metadata": {
    "tags": [
     "include"
    ]
   },
   "source": [
    "How does AS2008 fit the data, and how does it compare to the GMPE model you developed by inverting the data? Are your models within the 95% confidence bounds of AS2008?\n",
    "\n",
    "- Write answers here"
   ]
  },
  {
   "cell_type": "markdown",
   "metadata": {
    "tags": [
     "include"
    ]
   },
   "source": [
    "**Next use the RMS measure of misfit to find a best magnitude and fault depth for the combined data set. You can do this different ways. One would be to first find magnitude holding depth fixed, and then for the best magnitude find the best fault depth. A better way would be to write nested loops over both parameters to find the best combination.**"
   ]
  },
  {
   "cell_type": "code",
   "execution_count": null,
   "metadata": {
    "tags": [
     "include"
    ]
   },
   "outputs": [],
   "source": [
    "#Magnitude and fault depth analysis here"
   ]
  },
  {
   "cell_type": "markdown",
   "metadata": {
    "tags": [
     "include"
    ]
   },
   "source": [
    "_Write your answer here._"
   ]
  },
  {
   "cell_type": "markdown",
   "metadata": {
    "tags": [
     "include"
    ]
   },
   "source": [
    "**Finally, explore the effect of earthquake magnitude on ground acceleration. Use the `as2008` function defined above to compute the GMPE for M5, M6, M7, and M8 earthquakes (all with a top fault depth of 1.0km). Plot them together.**"
   ]
  },
  {
   "cell_type": "code",
   "execution_count": null,
   "metadata": {
    "tags": [
     "include"
    ]
   },
   "outputs": [],
   "source": [
    "#Analysis of AS2008 GMPE for different magnitude"
   ]
  },
  {
   "cell_type": "markdown",
   "metadata": {
    "tags": [
     "include"
    ]
   },
   "source": [
    "How does the ground acceleration curve change with increasing earthquake magnitude?\n",
    "\n",
    "If the events are on the San Andreas fault what are the ground motions for the different earthquakes on the UC Berkeley campus?"
   ]
  },
  {
   "cell_type": "markdown",
   "metadata": {
    "tags": [
     "include"
    ]
   },
   "source": [
    "_Write your answers here._"
   ]
  },
  {
   "cell_type": "markdown",
   "metadata": {
    "tags": [
     "include"
    ]
   },
   "source": [
    "#### Note that an interesting final class project might be combining the Gutenberg-Richter statistic with the ground motion esimation and uncertainty to arrive at a hazard estimate for the UC Berkeley campus for earthquakes on the San Andreas, Hayward and Concord faults."
   ]
  },
  {
   "cell_type": "markdown",
   "metadata": {
    "tags": [
     "include"
    ]
   },
   "source": [
    "### Turn in this Notebook\n",
    "\n",
    "**Run the cell below to export this notebook as a pdf and upload to bCourses. Make sure to run all cells and save before doing so for changes to be reflected in the pdf.**\n",
    " <!-- END QUESTION -->"
   ]
  },
  {
   "cell_type": "code",
   "execution_count": null,
   "metadata": {
    "tags": [
     "include"
    ]
   },
   "outputs": [],
   "source": [
    "grader = otter.Notebook()\n",
    "from otter.export import export_notebook\n",
    "from IPython.display import display, HTML\n",
    "export_notebook(\"W09_Nonlinear_Regression_Assignment.ipynb\", filtering=True, pagebreaks=False)\n",
    "display(HTML(\"<p style='font-size:20px'> <br>Save this notebook, then click <a href='W09_Nonlinear_Regression_Assignment.pdf' download>here</a> to open the pdf.<br></p>\"))"
   ]
  }
 ],
 "metadata": {
  "celltoolbar": "Edit Metadata",
  "kernelspec": {
   "display_name": "Python 3 (ipykernel)",
   "language": "python",
   "name": "python3"
  },
  "language_info": {
   "codemirror_mode": {
    "name": "ipython",
    "version": 3
   },
   "file_extension": ".py",
   "mimetype": "text/x-python",
   "name": "python",
   "nbconvert_exporter": "python",
   "pygments_lexer": "ipython3",
   "version": "3.9.12"
  }
 },
 "nbformat": 4,
 "nbformat_minor": 2
}
