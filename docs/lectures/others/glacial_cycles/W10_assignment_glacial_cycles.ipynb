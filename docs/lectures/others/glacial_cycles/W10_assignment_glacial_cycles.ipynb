{
 "cells": [
  {
   "cell_type": "markdown",
   "metadata": {},
   "source": [
    "# Glacial Cycle Assignment\n",
    "\n",
    "Your assignment is conduct spectral analysis on different portions of the Lisecki and Raymo (2005) benthic oxygen isotope data to determine the period of glacial-interglacial cycles. Choose at least 4 different intervals to look at with each analyzed interval being >500,000 years. A good place to start will be to look at data from the 800,000 years and compare it to data from the 800,000 to 1,600,000 year (remember 1000 years ago is 1 ka).\n",
    "\n",
    "Go ahead and filter the data between for these different times, plot the data and determine what frequencies have significant spectral power. **(12 points)**"
   ]
  },
  {
   "cell_type": "code",
   "execution_count": null,
   "metadata": {},
   "outputs": [],
   "source": []
  },
  {
   "cell_type": "code",
   "execution_count": null,
   "metadata": {},
   "outputs": [],
   "source": []
  },
  {
   "cell_type": "code",
   "execution_count": null,
   "metadata": {},
   "outputs": [],
   "source": []
  },
  {
   "cell_type": "code",
   "execution_count": null,
   "metadata": {},
   "outputs": [],
   "source": []
  },
  {
   "cell_type": "markdown",
   "metadata": {},
   "source": [
    "After you have done your analysis, you will find that there are different periods for the more recent glacial-interglacial cycles than the more recent ones. \n",
    "\n",
    "When did this transition happen? **(2 points)**\n",
    "\n",
    "*write answer here*\n",
    "\n",
    "What is the period of the more recent glacial-interglacial cycles? What orbital forcing might it correspond to? **(2 points)**\n",
    "\n",
    "*write answer here*\n",
    "\n",
    "What is the period of the more ancient glacial-interglacial cycles? What orbital forcing might it correspond to? **(2 points)**\n",
    "\n",
    "*write answer here*\n",
    "\n",
    "This change in glacial-interglacial cycle period is often called the mid-Pleistocene transition. Using Google Scholar, find a paper that presents a hypothesis for what caused the transition. Provide the reference here and write a paragraph summarizing the hypothesis **(6 points)**\n",
    "\n",
    "*write answer here*"
   ]
  }
 ],
 "metadata": {
  "kernelspec": {
   "display_name": "Python 3 (ipykernel)",
   "language": "python",
   "name": "python3"
  },
  "language_info": {
   "codemirror_mode": {
    "name": "ipython",
    "version": 3
   },
   "file_extension": ".py",
   "mimetype": "text/x-python",
   "name": "python",
   "nbconvert_exporter": "python",
   "pygments_lexer": "ipython3",
   "version": "3.9.13"
  }
 },
 "nbformat": 4,
 "nbformat_minor": 4
}
