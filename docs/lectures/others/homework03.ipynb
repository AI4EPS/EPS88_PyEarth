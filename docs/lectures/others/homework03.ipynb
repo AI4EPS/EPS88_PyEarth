{
 "cells": [
  {
   "cell_type": "markdown",
   "metadata": {},
   "source": [
    "# Homework 03 of EPS 88\n",
    "\n",
    "## Learning from a bigger classification of basalt source\n",
    "\n",
    "In the 2006 paper\n",
    "\n",
    ">Vermeesch, P. (2006). Tectonic discrimination of basalts with classification trees. Geochimica et Cosmochimica Acta, 70, 1839-1848. https://doi.org/10.1016/j.gca.2005.12.016\n",
    "\n",
    "Vermeesch wrote:\n",
    "\n",
    "> *\"If a much larger database were compiled, the trees would grow and their discriminative power increase, but they would still be easy to interpret\"*\n",
    "\n",
    "In a more recent paper, Doucet et al. compiled many more data. Rather than 756 basalt data points, they compiled 29,407 of which 22,005 correspond to the categories of Vermeesch (2006).\n",
    "\n",
    "> Doucet, L. S., Tetley, M. G., Li, Z.-X., Liu, Y., & Gamaleldien, H. (2022). Geochemical fingerprinting of continental and oceanic basalts: A machine learning approach. Earth-Science Reviews, 233, https://doi.org/10.1016/j.earscirev.2022.104192\n",
    "\n",
    "Your task in this assignment is use the data of Doucet et al. (2022) to evaluate whether the predictive power of the classification tree approach increases within this increase in data size as predicted by Vermeesch (2006)."
   ]
  },
  {
   "cell_type": "markdown",
   "metadata": {},
   "source": [
    "## Import scientific Python libraries"
   ]
  },
  {
   "cell_type": "code",
   "execution_count": 3,
   "metadata": {},
   "outputs": [],
   "source": [
    "import matplotlib.pyplot as plt\n",
    "import numpy as np\n",
    "import pandas as pd\n",
    "\n",
    "from sklearn.impute import SimpleImputer\n",
    "from sklearn.preprocessing import LabelEncoder\n",
    "from sklearn.model_selection import train_test_split\n",
    "from sklearn.metrics import accuracy_score\n",
    "from sklearn.tree import DecisionTreeClassifier\n",
    "from sklearn.tree import plot_tree\n",
    "from sklearn.linear_model import LogisticRegression\n",
    "from sklearn.svm import SVC\n",
    "from sklearn.preprocessing import LabelEncoder\n",
    "from sklearn.pipeline import make_pipeline\n",
    "from sklearn.preprocessing import StandardScaler\n",
    "from sklearn.metrics import confusion_matrix, ConfusionMatrixDisplay\n",
    "\n"
   ]
  },
  {
   "cell_type": "markdown",
   "metadata": {},
   "source": [
    "## Import data\n",
    "\n",
    "We will import the data from Doucet et al. 2022 that is provided as their supplemental table 1.\n",
    "\n",
    "For comparison, we will also import the data from Vermeesch (2006)."
   ]
  },
  {
   "cell_type": "code",
   "execution_count": 4,
   "metadata": {},
   "outputs": [],
   "source": [
    "## Read Doucet et al. 2022 data\n",
    "Doucet_data = pd.read_csv('../data/Doucet2022.csv',header=11)\n",
    "\n",
    "## Read Vermeesch (2006) data\n",
    "Vermeesch_data = pd.read_csv('../data/Vermeesch2006.csv')"
   ]
  },
  {
   "cell_type": "markdown",
   "metadata": {},
   "source": [
    "## The first task for data science is to inspect the data\n",
    "\n",
    "As we have two dataframes, if we want to develop a machine learning model that can be applied to both datasets, we need to make sure that the column names (feature names) are the same.\n",
    "\n",
    "Let's first inspect the column names of the two dataframes. If they are different, we need to make them the same.\n"
   ]
  },
  {
   "cell_type": "code",
   "execution_count": 5,
   "metadata": {},
   "outputs": [
    {
     "name": "stdout",
     "output_type": "stream",
     "text": [
      "Index(['X1', 'type', 'location', 'SiO2', 'TiO2', 'Al2O3', 'MgO', 'Fe2O3',\n",
      "       'FeO', 'FeOt', 'MgO.1', 'MnO', 'CaO', 'Na2O', 'K2O', 'P2O5', 'NiO',\n",
      "       'Li', 'Be', 'B', 'Ti', 'Ni', 'V', 'Cu', 'Zn', 'Cr', 'Li.1', 'Rb', 'Sr',\n",
      "       'Y', 'Zr', 'Nb', 'Mo', 'Cs', 'Ba', 'La', 'Ce', 'Pr', 'Nd', 'Sm', 'Eu',\n",
      "       'Gd', 'Tb', 'Dy', 'Ho', 'Er', 'Tm', 'Yb', 'Lu', 'Hf', 'Ta', 'Pb', 'Th',\n",
      "       'U'],\n",
      "      dtype='object')\n",
      "Index(['affinity', 'SiO2_wt_percent', 'TiO2_wt_percent', 'Al2O3_wt_percent',\n",
      "       'Fe2O3_wt_percent', 'FeO_wt_percent', 'CaO_wt_percent',\n",
      "       'MgO_wt_percent', 'MnO_wt_percent', 'K2O_wt_percent', 'Na2O_wt_percent',\n",
      "       'P2O5(wt%)', 'La_ppm', 'Ce_ppm', 'Pr_ppm', 'Nd_ppm', 'Sm_ppm', 'Eu_ppm',\n",
      "       'Gd_ppm', 'Tb_ppm', 'Dy_ppm', 'Ho_ppm', 'Er_ppm', 'Tm_ppm', 'Yb_ppm',\n",
      "       'Lu_ppm', 'Sc_ppm', 'V_ppm', 'Cr_ppm', 'Co_ppm', 'Ni_ppm', 'Cu_ppm',\n",
      "       'Zn_ppm', 'Ga_ppm', 'Rb_ppm', 'Sr_ppm', 'Y_ppm', 'Zr_ppm', 'Nb_ppm',\n",
      "       'Sn_ppm', 'Cs_ppm', 'Ba_ppm', 'Hf_ppm', 'Ta_ppm', 'Pb_ppm', 'Th_ppm',\n",
      "       'U_ppm', '143Nd/144Nd', '87Sr/86Sr', '206Pb/204Pb', '207Pb/204Pb',\n",
      "       '208Pb/204Pb'],\n",
      "      dtype='object')\n"
     ]
    }
   ],
   "source": [
    "## print the column names\n",
    "print(Doucet_data.columns)\n",
    "print(Vermeesch_data.columns)"
   ]
  },
  {
   "cell_type": "markdown",
   "metadata": {},
   "source": [
    "We can see that the column names are different. We need to make them the same.\n",
    "\n",
    "There are multiple ways for data cleaning. Here we will use the following steps:\n",
    "\n",
    "1. Rename the 'affinity' column to 'type' in the Vermeesch dataframe to match the column name in the Doucet dataframe\n",
    "2. Remove the units from the column names\n",
    "3. Keep only the columns that are present in both dataframes\n"
   ]
  },
  {
   "cell_type": "code",
   "execution_count": 6,
   "metadata": {},
   "outputs": [
    {
     "name": "stdout",
     "output_type": "stream",
     "text": [
      "Index(['type', 'SiO2_wt_percent', 'TiO2_wt_percent', 'Al2O3_wt_percent',\n",
      "       'Fe2O3_wt_percent', 'FeO_wt_percent', 'CaO_wt_percent',\n",
      "       'MgO_wt_percent', 'MnO_wt_percent', 'K2O_wt_percent', 'Na2O_wt_percent',\n",
      "       'P2O5(wt%)', 'La_ppm', 'Ce_ppm', 'Pr_ppm', 'Nd_ppm', 'Sm_ppm', 'Eu_ppm',\n",
      "       'Gd_ppm', 'Tb_ppm', 'Dy_ppm', 'Ho_ppm', 'Er_ppm', 'Tm_ppm', 'Yb_ppm',\n",
      "       'Lu_ppm', 'Sc_ppm', 'V_ppm', 'Cr_ppm', 'Co_ppm', 'Ni_ppm', 'Cu_ppm',\n",
      "       'Zn_ppm', 'Ga_ppm', 'Rb_ppm', 'Sr_ppm', 'Y_ppm', 'Zr_ppm', 'Nb_ppm',\n",
      "       'Sn_ppm', 'Cs_ppm', 'Ba_ppm', 'Hf_ppm', 'Ta_ppm', 'Pb_ppm', 'Th_ppm',\n",
      "       'U_ppm', '143Nd/144Nd', '87Sr/86Sr', '206Pb/204Pb', '207Pb/204Pb',\n",
      "       '208Pb/204Pb'],\n",
      "      dtype='object')\n"
     ]
    }
   ],
   "source": [
    "## rename type to affinity for Doucet data\n",
    "Vermeesch_data.rename(columns={'affinity':'type'},inplace=True)\n",
    "print(Vermeesch_data.columns)"
   ]
  },
  {
   "cell_type": "code",
   "execution_count": 7,
   "metadata": {},
   "outputs": [
    {
     "name": "stdout",
     "output_type": "stream",
     "text": [
      "Index(['X1', 'type', 'location', 'SiO2', 'TiO2', 'Al2O3', 'MgO', 'Fe2O3',\n",
      "       'FeO', 'FeOt', 'MgO.1', 'MnO', 'CaO', 'Na2O', 'K2O', 'P2O5', 'NiO',\n",
      "       'Li', 'Be', 'B', 'Ti', 'Ni', 'V', 'Cu', 'Zn', 'Cr', 'Li.1', 'Rb', 'Sr',\n",
      "       'Y', 'Zr', 'Nb', 'Mo', 'Cs', 'Ba', 'La', 'Ce', 'Pr', 'Nd', 'Sm', 'Eu',\n",
      "       'Gd', 'Tb', 'Dy', 'Ho', 'Er', 'Tm', 'Yb', 'Lu', 'Hf', 'Ta', 'Pb', 'Th',\n",
      "       'U'],\n",
      "      dtype='object')\n",
      "Index(['type', 'SiO2', 'TiO2', 'Al2O3', 'Fe2O3', 'FeO', 'CaO', 'MgO', 'MnO',\n",
      "       'K2O', 'Na2O', 'P2O5(wt%)', 'La', 'Ce', 'Pr', 'Nd', 'Sm', 'Eu', 'Gd',\n",
      "       'Tb', 'Dy', 'Ho', 'Er', 'Tm', 'Yb', 'Lu', 'Sc', 'V', 'Cr', 'Co', 'Ni',\n",
      "       'Cu', 'Zn', 'Ga', 'Rb', 'Sr', 'Y', 'Zr', 'Nb', 'Sn', 'Cs', 'Ba', 'Hf',\n",
      "       'Ta', 'Pb', 'Th', 'U', '143Nd/144Nd', '87Sr/86Sr', '206Pb/204Pb',\n",
      "       '207Pb/204Pb', '208Pb/204Pb'],\n",
      "      dtype='object')\n"
     ]
    }
   ],
   "source": [
    "## remove _ppm from the column names\n",
    "Doucet_data.columns = Doucet_data.columns.str.replace('_ppm', '')\n",
    "Vermeesch_data.columns = Vermeesch_data.columns.str.replace('_ppm', '')\n",
    "\n",
    "## remove _wt_percent from the column names\n",
    "Doucet_data.columns = Doucet_data.columns.str.replace('_wt_percent', '')\n",
    "Vermeesch_data.columns = Vermeesch_data.columns.str.replace('_wt_percent', '')\n",
    "\n",
    "print(Doucet_data.columns)\n",
    "print(Vermeesch_data.columns)"
   ]
  },
  {
   "cell_type": "code",
   "execution_count": 8,
   "metadata": {},
   "outputs": [
    {
     "name": "stdout",
     "output_type": "stream",
     "text": [
      "Index(['Eu', 'K2O', 'Pb', 'MgO', 'SiO2', 'MnO', 'Rb', 'Nb', 'Cr', 'Lu', 'Y',\n",
      "       'La', 'CaO', 'Tm', 'Tb', 'Yb', 'Nd', 'TiO2', 'Cs', 'V', 'U', 'Fe2O3',\n",
      "       'Ce', 'Gd', 'Ni', 'Zn', 'Sr', 'Hf', 'Na2O', 'Zr', 'Pr', 'type', 'Th',\n",
      "       'FeO', 'Dy', 'Cu', 'Al2O3', 'Ho', 'Er', 'Ta', 'Sm', 'Ba'],\n",
      "      dtype='object')\n",
      "Index(['Eu', 'K2O', 'Pb', 'MgO', 'SiO2', 'MnO', 'Rb', 'Nb', 'Cr', 'Lu', 'Y',\n",
      "       'La', 'CaO', 'Tm', 'Tb', 'Yb', 'Nd', 'TiO2', 'Cs', 'V', 'U', 'Fe2O3',\n",
      "       'Ce', 'Gd', 'Ni', 'Zn', 'Sr', 'Hf', 'Na2O', 'Zr', 'Pr', 'type', 'Th',\n",
      "       'FeO', 'Dy', 'Cu', 'Al2O3', 'Ho', 'Er', 'Ta', 'Sm', 'Ba'],\n",
      "      dtype='object')\n"
     ]
    }
   ],
   "source": [
    "## keep common columns between Doucet and Vermeesch data\n",
    "common_columns = list(set(Doucet_data.columns) & set(Vermeesch_data.columns))\n",
    "\n",
    "Doucet_data = Doucet_data[common_columns]\n",
    "Vermeesch_data = Vermeesch_data[common_columns]\n",
    "\n",
    "print(Doucet_data.columns)\n",
    "print(Vermeesch_data.columns)"
   ]
  },
  {
   "cell_type": "markdown",
   "metadata": {},
   "source": [
    "Note that here we simply keep the common columns between the two dataframes, which loss some information. \n",
    "If you want to keep all the information, you could further explore how to rename the columns in a way that can be used for both dataframes."
   ]
  },
  {
   "cell_type": "markdown",
   "metadata": {},
   "source": [
    "The Doucet et al. 2022 study includes data from additional basalt types. To test Vermeesch's hypothesis, let's filter the data to be those from:\n",
    "\n",
    "- ***Island arc basalts (IAB)*** *In the Doucet et al. dataset these are called `ARC-O` standing for oceanic arc.*\n",
    "- ***Mid-ocean ridge (MORB)***\n",
    "- ***Ocean-island (OIB)***\n",
    "\n",
    "The code below filters to these types and creates a new dataframe"
   ]
  },
  {
   "cell_type": "code",
   "execution_count": 9,
   "metadata": {},
   "outputs": [
    {
     "data": {
      "text/html": [
       "<div>\n",
       "<style scoped>\n",
       "    .dataframe tbody tr th:only-of-type {\n",
       "        vertical-align: middle;\n",
       "    }\n",
       "\n",
       "    .dataframe tbody tr th {\n",
       "        vertical-align: top;\n",
       "    }\n",
       "\n",
       "    .dataframe thead th {\n",
       "        text-align: right;\n",
       "    }\n",
       "</style>\n",
       "<table border=\"1\" class=\"dataframe\">\n",
       "  <thead>\n",
       "    <tr style=\"text-align: right;\">\n",
       "      <th></th>\n",
       "      <th>Eu</th>\n",
       "      <th>K2O</th>\n",
       "      <th>Pb</th>\n",
       "      <th>MgO</th>\n",
       "      <th>SiO2</th>\n",
       "      <th>MnO</th>\n",
       "      <th>Rb</th>\n",
       "      <th>Nb</th>\n",
       "      <th>Cr</th>\n",
       "      <th>Lu</th>\n",
       "      <th>...</th>\n",
       "      <th>Th</th>\n",
       "      <th>FeO</th>\n",
       "      <th>Dy</th>\n",
       "      <th>Cu</th>\n",
       "      <th>Al2O3</th>\n",
       "      <th>Ho</th>\n",
       "      <th>Er</th>\n",
       "      <th>Ta</th>\n",
       "      <th>Sm</th>\n",
       "      <th>Ba</th>\n",
       "    </tr>\n",
       "  </thead>\n",
       "  <tbody>\n",
       "    <tr>\n",
       "      <th>0</th>\n",
       "      <td>NaN</td>\n",
       "      <td>0.28</td>\n",
       "      <td>NaN</td>\n",
       "      <td>9.76</td>\n",
       "      <td>52.80</td>\n",
       "      <td>0.16</td>\n",
       "      <td>4.7</td>\n",
       "      <td>0.20</td>\n",
       "      <td>244.0</td>\n",
       "      <td>NaN</td>\n",
       "      <td>...</td>\n",
       "      <td>NaN</td>\n",
       "      <td>NaN</td>\n",
       "      <td>NaN</td>\n",
       "      <td>19.0</td>\n",
       "      <td>13.68</td>\n",
       "      <td>NaN</td>\n",
       "      <td>NaN</td>\n",
       "      <td>NaN</td>\n",
       "      <td>NaN</td>\n",
       "      <td>4.0</td>\n",
       "    </tr>\n",
       "    <tr>\n",
       "      <th>1</th>\n",
       "      <td>NaN</td>\n",
       "      <td>0.26</td>\n",
       "      <td>NaN</td>\n",
       "      <td>9.41</td>\n",
       "      <td>52.07</td>\n",
       "      <td>0.19</td>\n",
       "      <td>4.1</td>\n",
       "      <td>0.00</td>\n",
       "      <td>260.0</td>\n",
       "      <td>NaN</td>\n",
       "      <td>...</td>\n",
       "      <td>NaN</td>\n",
       "      <td>NaN</td>\n",
       "      <td>NaN</td>\n",
       "      <td>112.0</td>\n",
       "      <td>14.46</td>\n",
       "      <td>NaN</td>\n",
       "      <td>NaN</td>\n",
       "      <td>NaN</td>\n",
       "      <td>NaN</td>\n",
       "      <td>45.0</td>\n",
       "    </tr>\n",
       "    <tr>\n",
       "      <th>2</th>\n",
       "      <td>0.47</td>\n",
       "      <td>0.26</td>\n",
       "      <td>0.54</td>\n",
       "      <td>8.56</td>\n",
       "      <td>52.84</td>\n",
       "      <td>0.16</td>\n",
       "      <td>2.8</td>\n",
       "      <td>0.13</td>\n",
       "      <td>167.0</td>\n",
       "      <td>0.23</td>\n",
       "      <td>...</td>\n",
       "      <td>0.14</td>\n",
       "      <td>NaN</td>\n",
       "      <td>2.36</td>\n",
       "      <td>58.0</td>\n",
       "      <td>14.85</td>\n",
       "      <td>NaN</td>\n",
       "      <td>1.48</td>\n",
       "      <td>NaN</td>\n",
       "      <td>1.28</td>\n",
       "      <td>37.0</td>\n",
       "    </tr>\n",
       "    <tr>\n",
       "      <th>3</th>\n",
       "      <td>NaN</td>\n",
       "      <td>0.32</td>\n",
       "      <td>NaN</td>\n",
       "      <td>8.80</td>\n",
       "      <td>52.87</td>\n",
       "      <td>0.15</td>\n",
       "      <td>4.2</td>\n",
       "      <td>0.10</td>\n",
       "      <td>200.0</td>\n",
       "      <td>NaN</td>\n",
       "      <td>...</td>\n",
       "      <td>NaN</td>\n",
       "      <td>NaN</td>\n",
       "      <td>NaN</td>\n",
       "      <td>97.0</td>\n",
       "      <td>14.80</td>\n",
       "      <td>NaN</td>\n",
       "      <td>NaN</td>\n",
       "      <td>NaN</td>\n",
       "      <td>NaN</td>\n",
       "      <td>55.0</td>\n",
       "    </tr>\n",
       "    <tr>\n",
       "      <th>4</th>\n",
       "      <td>0.52</td>\n",
       "      <td>0.28</td>\n",
       "      <td>0.21</td>\n",
       "      <td>9.26</td>\n",
       "      <td>52.58</td>\n",
       "      <td>0.17</td>\n",
       "      <td>4.8</td>\n",
       "      <td>0.20</td>\n",
       "      <td>275.0</td>\n",
       "      <td>1.25</td>\n",
       "      <td>...</td>\n",
       "      <td>0.16</td>\n",
       "      <td>NaN</td>\n",
       "      <td>2.49</td>\n",
       "      <td>88.0</td>\n",
       "      <td>14.63</td>\n",
       "      <td>NaN</td>\n",
       "      <td>1.58</td>\n",
       "      <td>NaN</td>\n",
       "      <td>1.36</td>\n",
       "      <td>45.0</td>\n",
       "    </tr>\n",
       "  </tbody>\n",
       "</table>\n",
       "<p>5 rows × 42 columns</p>\n",
       "</div>"
      ],
      "text/plain": [
       "     Eu   K2O    Pb   MgO   SiO2   MnO   Rb    Nb     Cr    Lu  ...    Th  \\\n",
       "0   NaN  0.28   NaN  9.76  52.80  0.16  4.7  0.20  244.0   NaN  ...   NaN   \n",
       "1   NaN  0.26   NaN  9.41  52.07  0.19  4.1  0.00  260.0   NaN  ...   NaN   \n",
       "2  0.47  0.26  0.54  8.56  52.84  0.16  2.8  0.13  167.0  0.23  ...  0.14   \n",
       "3   NaN  0.32   NaN  8.80  52.87  0.15  4.2  0.10  200.0   NaN  ...   NaN   \n",
       "4  0.52  0.28  0.21  9.26  52.58  0.17  4.8  0.20  275.0  1.25  ...  0.16   \n",
       "\n",
       "   FeO    Dy     Cu  Al2O3  Ho    Er  Ta    Sm    Ba  \n",
       "0  NaN   NaN   19.0  13.68 NaN   NaN NaN   NaN   4.0  \n",
       "1  NaN   NaN  112.0  14.46 NaN   NaN NaN   NaN  45.0  \n",
       "2  NaN  2.36   58.0  14.85 NaN  1.48 NaN  1.28  37.0  \n",
       "3  NaN   NaN   97.0  14.80 NaN   NaN NaN   NaN  55.0  \n",
       "4  NaN  2.49   88.0  14.63 NaN  1.58 NaN  1.36  45.0  \n",
       "\n",
       "[5 rows x 42 columns]"
      ]
     },
     "execution_count": 9,
     "metadata": {},
     "output_type": "execute_result"
    }
   ],
   "source": [
    "## Filter the data \n",
    "Doucet_data = Doucet_data[(Doucet_data['type']=='MORB') | (Doucet_data['type']=='OIB') | (Doucet_data['type']=='ARC-O')].reset_index(drop=True)\n",
    "Doucet_data.head()\n",
    "\n",
    "## To make the column names consistent with Vermeesch (2006), let's rename the type names \"ARC-O\" to \"IAB\"\n",
    "Doucet_data.loc[Doucet_data['type']=='ARC-O','type'] = 'IAB'\n",
    "Doucet_data.head()\n"
   ]
  },
  {
   "cell_type": "markdown",
   "metadata": {},
   "source": [
    "## Data preprocessing\n",
    "\n",
    "- Encode the target variable 'type' using LabelEncoder\n",
    "- Split the data into features (X) and target (y)\n",
    "- Impute missing values using median imputation\n",
    "- Split the data into training and testing sets\n"
   ]
  },
  {
   "cell_type": "code",
   "execution_count": 10,
   "metadata": {},
   "outputs": [
    {
     "name": "stdout",
     "output_type": "stream",
     "text": [
      "X_train.shape = (15403, 41)\n",
      "X_test.shape = (6602, 41)\n"
     ]
    }
   ],
   "source": [
    "## Encode the target variable 'type' using LabelEncoder\n",
    "le = LabelEncoder()\n",
    "le.fit(Doucet_data['type'])\n",
    "\n",
    "## Split the data into features (X) and target (y)\n",
    "X = Doucet_data.drop('type',axis=1)\n",
    "X_columns = X.columns ## save the column names\n",
    "y = Doucet_data['type']\n",
    "y = le.transform(y)\n",
    "\n",
    "## Impute missing values using median imputation\n",
    "imputer = SimpleImputer(strategy='median')\n",
    "imputer.fit(X)\n",
    "X = imputer.transform(X)   \n",
    "\n",
    "## Split the data into training and testing sets. Use 30% of the data as the testing set. Set random_state=42\n",
    "X_train, X_test, y_train, y_test = train_test_split(X, y, test_size=0.3, random_state=42)\n",
    "\n",
    "## Let's check the shape of the training and testing sets\n",
    "print(f\"{X_train.shape = }\")\n",
    "print(f\"{X_test.shape = }\")\n"
   ]
  },
  {
   "cell_type": "markdown",
   "metadata": {},
   "source": [
    "## Build a logistic regression classifier\n",
    "\n",
    "Review the previous lectures on logistic regression and how to build a logistic regression classifier using `sklearn`.\n",
    "\n",
    "Try to build a logistic regression classifier and evaluate its accuracy using Doucet et al. (2022) data.\n"
   ]
  },
  {
   "cell_type": "code",
   "execution_count": 11,
   "metadata": {},
   "outputs": [
    {
     "name": "stdout",
     "output_type": "stream",
     "text": [
      "accuracy = 0.947440169645562\n"
     ]
    },
    {
     "data": {
      "image/png": "[encoded data removed]",
      "text/plain": [
       "<Figure size 640x480 with 1 Axes>"
      ]
     },
     "metadata": {},
     "output_type": "display_data"
    }
   ],
   "source": [
    "## Build a logistic regression classifier. \n",
    "## Remember to standardize the data using StandardScaler\n",
    "## Hint: using make_pipeline and StandardScaler\n",
    "model_linear = make_pipeline(StandardScaler(),LogisticRegression(solver=\"liblinear\"))\n",
    "\n",
    "## train the model\n",
    "model_linear.fit(X_train,y_train)\n",
    "\n",
    "## predict on the test set\n",
    "y_pred = model_linear.predict(X_test)\n",
    "\n",
    "## evaluate the model\n",
    "accuracy = accuracy_score(y_test,y_pred)\n",
    "print(f\"{accuracy = }\")\n",
    "\n",
    "## plot confusion matrix\n",
    "conf_matrix = confusion_matrix(y_test,y_pred)\n",
    "disp = ConfusionMatrixDisplay(confusion_matrix=conf_matrix,display_labels=le.classes_)\n",
    "disp.plot(cmap=plt.cm.Blues, values_format='d', colorbar=False);\n"
   ]
  },
  {
   "cell_type": "markdown",
   "metadata": {},
   "source": [
    "## Build a SVM classifier\n",
    "\n",
    "Let's try to use the more advanced machine learning models SVM to see if they can improve the accuracy.\n",
    "\n",
    "First, let's try a linear kernel SVM, which is similar to the logistic regression classifier we built above. \n",
    "\n",
    "Review the previous lectures on SVM and how to build a SVM classifier using `sklearn`.\n",
    "\n"
   ]
  },
  {
   "cell_type": "code",
   "execution_count": 12,
   "metadata": {},
   "outputs": [
    {
     "name": "stdout",
     "output_type": "stream",
     "text": [
      "accuracy = 0.9528930627082702\n"
     ]
    },
    {
     "data": {
      "image/png": "[encoded data removed]",
      "text/plain": [
       "<Figure size 640x480 with 1 Axes>"
      ]
     },
     "metadata": {},
     "output_type": "display_data"
    }
   ],
   "source": [
    "## Build a SVM classifier using kernel=\"linear\"\n",
    "## Remember to standardize the data using StandardScaler\n",
    "## Hint: using make_pipeline and StandardScaler\n",
    "model_svm = make_pipeline(StandardScaler(),SVC(kernel=\"linear\"))\n",
    "\n",
    "## train the model\n",
    "model_svm.fit(X_train,y_train)\n",
    "\n",
    "## predict on the test set\n",
    "y_pred = model_svm.predict(X_test)\n",
    "\n",
    "## evaluate the model\n",
    "accuracy = accuracy_score(y_test,y_pred)\n",
    "print(f\"{accuracy = }\")\n",
    "\n",
    "## plot confusion matrix\n",
    "conf_matrix = confusion_matrix(y_test,y_pred)\n",
    "disp = ConfusionMatrixDisplay(confusion_matrix=conf_matrix,display_labels=le.classes_)\n",
    "disp.plot(cmap=plt.cm.Blues, values_format='d', colorbar=False);"
   ]
  },
  {
   "cell_type": "markdown",
   "metadata": {},
   "source": [
    "As we dicussed in class, the advantage of SVM is that it can handle non-linear decision boundaries. Let's try a RBF kernel SVM.\n",
    "\n",
    "The RBF kernel SVM is more computationally expensive than the linear kernel SVM, but it can handle non-linear decision boundaries.\n",
    "\n",
    "The gamma parameter controls the smoothness of the decision boundary. A large gamma value will create a more complex decision boundary, while a small gamma value will create a simpler decision boundary.\n",
    "\n",
    "First build a SVM classifier using a default gamma value of 0.1.\n",
    "\n",
    "Then try a different gamma value and see if you can find a better model. \n",
    "\n",
    "Report the best gamma value and the accuracy of the model.\n"
   ]
  },
  {
   "cell_type": "code",
   "execution_count": 13,
   "metadata": {},
   "outputs": [
    {
     "name": "stdout",
     "output_type": "stream",
     "text": [
      "accuracy = 0.9792487125113601\n"
     ]
    },
    {
     "data": {
      "image/png": "[encoded data removed]",
      "text/plain": [
       "<Figure size 640x480 with 1 Axes>"
      ]
     },
     "metadata": {},
     "output_type": "display_data"
    }
   ],
   "source": [
    "## Build a SVM classifier using SVC(kernel=\"rbf\",gamma=0.1)\n",
    "## Remember to standardize the data using StandardScaler\n",
    "## Hint: using make_pipeline and StandardScaler\n",
    "model_svm = make_pipeline(StandardScaler(),SVC(kernel=\"rbf\",gamma=0.1))\n",
    "\n",
    "## train the model\n",
    "model_svm.fit(X_train,y_train)\n",
    "\n",
    "## predict on the test set\n",
    "y_pred = model_svm.predict(X_test)\n",
    "\n",
    "## evaluate the model\n",
    "accuracy = accuracy_score(y_test,y_pred)\n",
    "print(f\"{accuracy = }\")\n",
    "\n",
    "## plot confusion matrix\n",
    "conf_matrix = confusion_matrix(y_test,y_pred)\n",
    "disp = ConfusionMatrixDisplay(confusion_matrix=conf_matrix,display_labels=le.classes_)\n",
    "disp.plot(cmap=plt.cm.Blues, values_format='d', colorbar=False);"
   ]
  },
  {
   "cell_type": "markdown",
   "metadata": {},
   "source": [
    "## Build a decision tree classifier\n",
    "\n",
    "Review the previous lectures on decision tree and how to build a decision tree classifier using `sklearn`.\n",
    "\n",
    "Similar to the gamma parameter in SVM, the `max_depth` parameter in decision tree can also affect the complexity of the model.\n",
    "\n",
    "The default setting is `max_depth=None` which means it will keep going and going until the leafs of the tree contain a single category. \n",
    "\n",
    "First, let's build a decision tree classifier with the default setting.\n",
    "\n",
    "Then try different `max_depth` values and see if you can find a better model.\n",
    "\n",
    "Report the best `max_depth` value and the accuracy of the model."
   ]
  },
  {
   "cell_type": "code",
   "execution_count": 14,
   "metadata": {},
   "outputs": [
    {
     "name": "stdout",
     "output_type": "stream",
     "text": [
      "accuracy = 0.965010602847622\n"
     ]
    },
    {
     "data": {
      "image/png": "[encoded data removed]",
      "text/plain": [
       "<Figure size 640x480 with 1 Axes>"
      ]
     },
     "metadata": {},
     "output_type": "display_data"
    }
   ],
   "source": [
    "## Build a decision tree classifier with default setting DecisionTreeClassifier(max_depth=None)\n",
    "model_tree = DecisionTreeClassifier(max_depth=None)\n",
    "\n",
    "## train the model\n",
    "model_tree.fit(X_train,y_train)\n",
    "\n",
    "## predict on the test set\n",
    "y_pred = model_tree.predict(X_test)\n",
    "\n",
    "## evaluate the model\n",
    "accuracy = accuracy_score(y_test,y_pred)\n",
    "print(f\"{accuracy = }\")\n",
    "\n",
    "## plot confusion matrix\n",
    "conf_matrix = confusion_matrix(y_test,y_pred)\n",
    "disp = ConfusionMatrixDisplay(confusion_matrix=conf_matrix,display_labels=le.classes_)\n",
    "disp.plot(cmap=plt.cm.Blues, values_format='d', colorbar=False);"
   ]
  },
  {
   "cell_type": "markdown",
   "metadata": {},
   "source": [
    "As we discussed in class, the decision tree classifier is a white box model, which means we can understand the importance of each feature in the decision making process."
   ]
  },
  {
   "cell_type": "code",
   "execution_count": 15,
   "metadata": {},
   "outputs": [
    {
     "data": {
      "text/html": [
       "<div>\n",
       "<style scoped>\n",
       "    .dataframe tbody tr th:only-of-type {\n",
       "        vertical-align: middle;\n",
       "    }\n",
       "\n",
       "    .dataframe tbody tr th {\n",
       "        vertical-align: top;\n",
       "    }\n",
       "\n",
       "    .dataframe thead th {\n",
       "        text-align: right;\n",
       "    }\n",
       "</style>\n",
       "<table border=\"1\" class=\"dataframe\">\n",
       "  <thead>\n",
       "    <tr style=\"text-align: right;\">\n",
       "      <th></th>\n",
       "      <th>feature</th>\n",
       "      <th>importance</th>\n",
       "    </tr>\n",
       "  </thead>\n",
       "  <tbody>\n",
       "    <tr>\n",
       "      <th>17</th>\n",
       "      <td>TiO2</td>\n",
       "      <td>0.463511</td>\n",
       "    </tr>\n",
       "    <tr>\n",
       "      <th>3</th>\n",
       "      <td>MgO</td>\n",
       "      <td>0.136978</td>\n",
       "    </tr>\n",
       "    <tr>\n",
       "      <th>35</th>\n",
       "      <td>Al2O3</td>\n",
       "      <td>0.085395</td>\n",
       "    </tr>\n",
       "    <tr>\n",
       "      <th>28</th>\n",
       "      <td>Na2O</td>\n",
       "      <td>0.059288</td>\n",
       "    </tr>\n",
       "    <tr>\n",
       "      <th>26</th>\n",
       "      <td>Sr</td>\n",
       "      <td>0.053626</td>\n",
       "    </tr>\n",
       "    <tr>\n",
       "      <th>4</th>\n",
       "      <td>SiO2</td>\n",
       "      <td>0.038245</td>\n",
       "    </tr>\n",
       "    <tr>\n",
       "      <th>29</th>\n",
       "      <td>Zr</td>\n",
       "      <td>0.022979</td>\n",
       "    </tr>\n",
       "    <tr>\n",
       "      <th>21</th>\n",
       "      <td>Fe2O3</td>\n",
       "      <td>0.017267</td>\n",
       "    </tr>\n",
       "    <tr>\n",
       "      <th>24</th>\n",
       "      <td>Ni</td>\n",
       "      <td>0.015391</td>\n",
       "    </tr>\n",
       "    <tr>\n",
       "      <th>7</th>\n",
       "      <td>Nb</td>\n",
       "      <td>0.015360</td>\n",
       "    </tr>\n",
       "  </tbody>\n",
       "</table>\n",
       "</div>"
      ],
      "text/plain": [
       "   feature  importance\n",
       "17    TiO2    0.463511\n",
       "3      MgO    0.136978\n",
       "35   Al2O3    0.085395\n",
       "28    Na2O    0.059288\n",
       "26      Sr    0.053626\n",
       "4     SiO2    0.038245\n",
       "29      Zr    0.022979\n",
       "21   Fe2O3    0.017267\n",
       "24      Ni    0.015391\n",
       "7       Nb    0.015360"
      ]
     },
     "execution_count": 15,
     "metadata": {},
     "output_type": "execute_result"
    }
   ],
   "source": [
    "## print the most important features\n",
    "feature_importances = model_tree.feature_importances_\n",
    "feature_df = pd.DataFrame({'feature':X_columns,'importance':feature_importances})\n",
    "feature_df = feature_df.sort_values(by='importance',ascending=False)\n",
    "feature_df.head(10)"
   ]
  },
  {
   "cell_type": "markdown",
   "metadata": {},
   "source": [
    "How does the accuracy of the decision tree based on larger dataset from Doucet et al. (2022) compare to that using the smaller dataset from Vermeesch (2006)? Write your answer in the markdown cell below."
   ]
  },
  {
   "cell_type": "markdown",
   "metadata": {},
   "source": []
  },
  {
   "cell_type": "markdown",
   "metadata": {},
   "source": [
    "What similarities and differences are there between the importance of different data fields (feature importance) between the decision tree built on the Vermeesch (2006) data compilation vs that built on the Doucet et al. (2022) data compilation?"
   ]
  },
  {
   "cell_type": "markdown",
   "metadata": {},
   "source": []
  },
  {
   "cell_type": "markdown",
   "metadata": {},
   "source": [
    "## Applying the model trained on Doucet et al. (2022) dataset to the Vermeesch (2006) dataset\n",
    "\n",
    "The goal of machine learning is to generalize the model to new data. Here we will apply the decision tree classifier trained on the Doucet et al. (2022) dataset to the Vermeesch (2006) dataset to see how well the model can be applied to new data.\n",
    "\n",
    "Let's apply the linear model, SVM, and decision tree classifier to the Vermeesch (2006) dataset and evaluate their accuracy.\n",
    "\n",
    "Please note that you would need to preprocess the Vermeesch (2006) dataset in the same way as the Doucet et al. (2022) dataset.\n"
   ]
  },
  {
   "cell_type": "code",
   "execution_count": 16,
   "metadata": {},
   "outputs": [
    {
     "name": "stdout",
     "output_type": "stream",
     "text": [
      "Logistic regression accuracy: 0.766\n",
      "SVM accuracy: 0.659\n",
      "Decision tree accuracy: 0.680\n"
     ]
    },
    {
     "data": {
      "image/png": "[encoded data removed]",
      "text/plain": [
       "<Figure size 640x480 with 1 Axes>"
      ]
     },
     "metadata": {},
     "output_type": "display_data"
    }
   ],
   "source": [
    "## Preprocess the Vermeesch (2006) dataset\n",
    "## Split the data into features (X) and target (y)\n",
    "X = Vermeesch_data.drop('type',axis=1)\n",
    "X = X[X_columns] ## keep column in the same order as Doucet et al. (2022) dataset\n",
    "y = Vermeesch_data['type']\n",
    "y = le.transform(y) ## reuse the label encoder we defined earlier\n",
    "\n",
    "## Impute missing values using median imputation \n",
    "X = imputer.transform(X) ## use the same imputer we defined earlier\n",
    "\n",
    "## Apply the linear model and evaluate the accuracy\n",
    "y_pred = model_linear.predict(X)\n",
    "accuracy = accuracy_score(y,y_pred)\n",
    "print(f\"Logistic regression accuracy: {accuracy:.3f}\")\n",
    "\n",
    "## Apply the SVM model and evaluate the accuracy\n",
    "y_pred = model_svm.predict(X)\n",
    "accuracy = accuracy_score(y,y_pred)\n",
    "print(f\"SVM accuracy: {accuracy:.3f}\")\n",
    "\n",
    "## Apply the decision tree model and evaluate the accuracy\n",
    "y_pred = model_tree.predict(X)\n",
    "accuracy = accuracy_score(y,y_pred)\n",
    "print(f\"Decision tree accuracy: {accuracy:.3f}\")\n",
    "\n",
    "## plot confusion matrix\n",
    "conf_matrix = confusion_matrix(y,y_pred)\n",
    "disp = ConfusionMatrixDisplay(confusion_matrix=conf_matrix,display_labels=le.classes_)\n",
    "disp.plot(cmap=plt.cm.Blues, values_format='d', colorbar=False);"
   ]
  },
  {
   "cell_type": "markdown",
   "metadata": {},
   "source": [
    "<!-- Comment on how well these models perform on the Vermeesch (2006) dataset. Why do you think the models perform better or worse on the Vermeesch (2006) dataset? -->\n",
    "Based on the accuracy, please comment on the following questions:\n",
    "\n",
    "- How does the accuracy of models trained on Doucet et al. (2022) dataset compare to the model trained on Vermeesch (2006) dataset?\n",
    "Recall the accuracy you get in previous class using the model trained on Vermeesch (2006) dataset.\n",
    "\n",
    "- Among these models, which one performs the best on the Doucet et al. (2022) dataset and which one performane the worst? \n",
    "Similar question for the Vermeesch (2006) dataset. Are the best and worst models the same or totally different?\n",
    "\n",
    "- What are the possible reasons for the difference in accuracy?  What does this imply for the predictive power of machine learning models? Hint: think about model fitting and generalization.\n"
   ]
  },
  {
   "cell_type": "markdown",
   "metadata": {},
   "source": []
  }
 ],
 "metadata": {
  "kernelspec": {
   "display_name": "base",
   "language": "python",
   "name": "python3"
  },
  "language_info": {
   "codemirror_mode": {
    "name": "ipython",
    "version": 3
   },
   "file_extension": ".py",
   "mimetype": "text/x-python",
   "name": "python",
   "nbconvert_exporter": "python",
   "pygments_lexer": "ipython3",
   "version": "3.10.12"
  }
 },
 "nbformat": 4,
 "nbformat_minor": 4
}
