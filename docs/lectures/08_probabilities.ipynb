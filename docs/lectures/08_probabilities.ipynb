{
 "cells": [
  {
   "cell_type": "markdown",
   "metadata": {},
   "source": [
    "# Probability distributions & meteor shower gazing\n",
    "\n",
    "\n",
    "**Our goals for today:**\n",
    "- Discuss some key statistics topics: samples versus populations and empirical versus theorectical distributions\n",
    "- Simulate a head/tail coin toss and well drilling i.e. Binomial distribution\n",
    "- Simulate meteors entering Earth's atmosphere i.e. Poisson distribution\n",
    "- Simulate geomagnetic polarity reversals i.e. Gamma distribution\n",
    "- Use Gutenberg-Richter to assess earthquake probability\n"
   ]
  },
  {
   "cell_type": "markdown",
   "metadata": {},
   "source": [
    "## Setup\n",
    "\n",
    "Run this cell as it is to setup your environment."
   ]
  },
  {
   "cell_type": "code",
   "execution_count": 1,
   "metadata": {},
   "outputs": [],
   "source": [
    "import matplotlib.pyplot as plt\n",
    "import pandas as pd\n",
    "import numpy as np\n",
    "from math import factorial\n",
    "np.random.seed(0)"
   ]
  },
  {
   "cell_type": "markdown",
   "metadata": {},
   "source": [
    "## Flipping a coin\n",
    "\n",
    "Let's pretend we are flipping a coin 10 times using ```np.random.choice([0, 1])```. How many times will be get heads? 1 is heads, 0 is tails. Let's use a for loop and get Python to simulate such a coin flip scenario for us.\n",
    "\n",
    "This code block is the first time we are using a **for loop**. What **for loops** do is take a chunk of code (in Python the chunk that is indented) being run multiple times. In this case, the code will get looped through 10 times -- specified by ```range(0,10)```."
   ]
  },
  {
   "cell_type": "code",
   "execution_count": 2,
   "metadata": {},
   "outputs": [
    {
     "name": "stdout",
     "output_type": "stream",
     "text": [
      "0\n",
      "1\n",
      "1\n",
      "0\n",
      "1\n",
      "1\n",
      "1\n",
      "1\n",
      "1\n",
      "1\n"
     ]
    }
   ],
   "source": [
    "for flip in range(0,10):\n",
    "    flip_result = np.random.choice([0, 1])\n",
    "    print(flip_result)"
   ]
  },
  {
   "cell_type": "markdown",
   "metadata": {},
   "source": [
    "Now let's record how many times the result was heads. We will make a list called `flip_results` and have it be blank to start. Each time we go through the code we will append the result to the list:"
   ]
  },
  {
   "cell_type": "code",
   "execution_count": 3,
   "metadata": {},
   "outputs": [
    {
     "data": {
      "text/plain": [
       "[1, 0, 0, 1, 0, 0, 0, 0, 0, 1]"
      ]
     },
     "execution_count": 3,
     "metadata": {},
     "output_type": "execute_result"
    }
   ],
   "source": [
    "flip_results = []\n",
    "\n",
    "for flip in range(0,10):\n",
    "    flip_result = np.random.choice([0, 1])\n",
    "    flip_results.append(flip_result)\n",
    "    \n",
    "flip_results    "
   ]
  },
  {
   "cell_type": "markdown",
   "metadata": {},
   "source": [
    "We can calculate how many times were heads by taking the sum of the list:"
   ]
  },
  {
   "cell_type": "code",
   "execution_count": 4,
   "metadata": {},
   "outputs": [],
   "source": [
    "#write code here\n",
    "\n",
    "number_heads = sum(flip_results)"
   ]
  },
  {
   "cell_type": "markdown",
   "metadata": {},
   "source": [
    "Now let's flip the coin 10 times and do that 10 times. Each time we flip it, let's record how many heads resulted from the flip."
   ]
  },
  {
   "cell_type": "code",
   "execution_count": 5,
   "metadata": {},
   "outputs": [
    {
     "data": {
      "text/plain": [
       "[6, 6, 7, 6, 3, 5, 7, 5, 4, 3]"
      ]
     },
     "execution_count": 5,
     "metadata": {},
     "output_type": "execute_result"
    }
   ],
   "source": [
    "number_heads = []\n",
    "\n",
    "for flip_experiment in range(10):\n",
    "\n",
    "    flip_results = []\n",
    "    \n",
    "    for flip in range(0,10):\n",
    "        flip_result = np.random.choice([0, 1])\n",
    "        flip_results.append(flip_result)\n",
    "    \n",
    "    number_heads.append(sum(flip_results))\n",
    "\n",
    "number_heads"
   ]
  },
  {
   "cell_type": "code",
   "execution_count": 6,
   "metadata": {},
   "outputs": [
    {
     "data": {
      "image/png": "[encoded data removed]",
      "text/plain": [
       "<Figure size 1000x500 with 1 Axes>"
      ]
     },
     "metadata": {},
     "output_type": "display_data"
    }
   ],
   "source": [
    "plt.figure(figsize=(10,5))\n",
    "bins = np.arange(-0.5, 10.5, 1)\n",
    "plt.hist(number_heads, bins=bins, density=True, edgecolor='white')\n",
    "plt.show()"
   ]
  },
  {
   "cell_type": "markdown",
   "metadata": {},
   "source": [
    "<font color=goldenrod>**_Code for you to write_**</font>\n",
    "\n",
    "Instead of doing 10 coin flips 10 times, do 10 coin flips 1000 times. Plot the histogram of the result."
   ]
  },
  {
   "cell_type": "code",
   "execution_count": 35,
   "metadata": {},
   "outputs": [],
   "source": [
    "number_heads = []\n",
    "\n",
    "for flip_experiment in range(1000):\n",
    "    \n",
    "    flip_results = []\n",
    "    \n",
    "    for flip in range(0,10):\n",
    "        flip_result = np.random.choice([0, 1])\n",
    "        flip_results.append(flip_result)\n",
    "    \n",
    "    number_heads.append(sum(flip_results))"
   ]
  },
  {
   "cell_type": "code",
   "execution_count": 36,
   "metadata": {},
   "outputs": [
    {
     "data": {
      "image/png": "[encoded data removed]",
      "text/plain": [
       "<Figure size 640x480 with 1 Axes>"
      ]
     },
     "metadata": {},
     "output_type": "display_data"
    }
   ],
   "source": [
    "plt.figure()\n",
    "plt.hist(number_heads, bins=np.arange(-0.5, 10.5, 1), density=True, edgecolor='white')\n",
    "plt.show()"
   ]
  },
  {
   "cell_type": "markdown",
   "metadata": {},
   "source": [
    "## Binomial distribution:\n",
    "\n",
    "### Theoretical\n",
    "\n",
    "A relatively straight-forward distribution is the _binomial_ distribution which describes the probability of a particular outcome when there are only two possibilities (yes or no, heads or tails, 1 or 0).\n",
    "\n",
    "For example, in a coin toss experiment (heads or tails), if we flip the coin  $n$ times, what is the probability of getting $x$ 'heads'?  We assume that the probability $p$ of a head for any given coin toss is 50%; put another way $p$ = 0.5.  \n",
    "\n",
    "The binomial distribution can be described by an equation: \n",
    "\n",
    "$$P=f(x,p,n)= \\frac{n!}{x!(n-x)!}p^x(1-p)^{n-x}$$\n",
    "\n",
    "We can look at this kind of distribution by evaluating the probability for getting $x$ 'heads' out of $n$ attempts. We'll code the equation as a function, and calculate the probability $P$ of a particular outcome (e.g., $x$ heads in $n$ attempts). \n",
    "\n",
    "Note that for a coin toss, $p$ is 0.5, but other yes/no questions can be investigated as well (e.g., chance of finding a fossil in a sedimentary layer; whether or not a landslide occurs following an earthquake). "
   ]
  },
  {
   "cell_type": "code",
   "execution_count": 7,
   "metadata": {},
   "outputs": [],
   "source": [
    "def binomial_probability(x,p,n):\n",
    "    \"\"\"\n",
    "    This function computes the probability of getting x particular outcomes (heads) in n attempts, where p is the \n",
    "    probability of a particular outcome (head) for any given attempt (coin toss).\n",
    "    \n",
    "    Parameters\n",
    "    ----------\n",
    "    x : number of a particular outcome\n",
    "    p : probability of that outcome in a given attempt\n",
    "    n : number of attempts\n",
    "    \n",
    "    Returns\n",
    "    ---------\n",
    "    prob : probability of that number of the given outcome occuring in that number of attempts\n",
    "    \"\"\"\n",
    "\n",
    "    ## prop = n!/(x!(n-x)!)*p^x*(1-p)^(n-x)\n",
    "    prob = factorial(n)/(factorial(x)*factorial(n-x))*(p**x)*((1-p)**(n-x))\n",
    "\n",
    "    return prob"
   ]
  },
  {
   "cell_type": "markdown",
   "metadata": {},
   "source": [
    "We can use this function to calculate the probability of getting 10 heads ($x=10$) when there are 10 coin tosses ($n=10$) given with the $p$ (probability) of 0.5.  "
   ]
  },
  {
   "cell_type": "code",
   "execution_count": 8,
   "metadata": {},
   "outputs": [
    {
     "data": {
      "text/plain": [
       "0.0009765625"
      ]
     },
     "execution_count": 8,
     "metadata": {},
     "output_type": "execute_result"
    }
   ],
   "source": [
    "binomial_probability(x=10,p=0.5,n=10)"
   ]
  },
  {
   "cell_type": "markdown",
   "metadata": {},
   "source": [
    "Let's calculate the probability of getting [ 0,  1,  2,  3,  4,  5,  6,  7,  8,  9, 10] heads."
   ]
  },
  {
   "cell_type": "code",
   "execution_count": 9,
   "metadata": {},
   "outputs": [
    {
     "data": {
      "text/plain": [
       "array([ 0,  1,  2,  3,  4,  5,  6,  7,  8,  9, 10])"
      ]
     },
     "execution_count": 9,
     "metadata": {},
     "output_type": "execute_result"
    }
   ],
   "source": [
    "head_numbers = np.arange(0,11)\n",
    "head_numbers"
   ]
  },
  {
   "cell_type": "code",
   "execution_count": 10,
   "metadata": {},
   "outputs": [
    {
     "data": {
      "text/plain": [
       "[0.0009765625,\n",
       " 0.009765625,\n",
       " 0.0439453125,\n",
       " 0.1171875,\n",
       " 0.205078125,\n",
       " 0.24609375,\n",
       " 0.205078125,\n",
       " 0.1171875,\n",
       " 0.0439453125,\n",
       " 0.009765625,\n",
       " 0.0009765625]"
      ]
     },
     "execution_count": 10,
     "metadata": {},
     "output_type": "execute_result"
    }
   ],
   "source": [
    "prob_heads = 0.5\n",
    "n_flips = 10\n",
    "probabilities = []\n",
    "\n",
    "for head_number in head_numbers:\n",
    "    prob = binomial_probability(x=head_number,p=prob_heads,n=n_flips)\n",
    "    probabilities.append(prob)\n",
    "    \n",
    "probabilities"
   ]
  },
  {
   "cell_type": "markdown",
   "metadata": {},
   "source": [
    "<font color=goldenrod>**_Code for you to write_**</font>\n",
    "\n",
    "Make a plot where you both plot the histogram from 1000 coin flips (using ```plt.hist()``` with ```density=True```) and you plot the results head_numbers probabilities (using ```plt.plot()```)."
   ]
  },
  {
   "cell_type": "code",
   "execution_count": 37,
   "metadata": {},
   "outputs": [
    {
     "data": {
      "image/png": "[encoded data removed]",
      "text/plain": [
       "<Figure size 1000x500 with 1 Axes>"
      ]
     },
     "metadata": {},
     "output_type": "display_data"
    }
   ],
   "source": [
    "plt.figure(figsize=(10,5))\n",
    "bins = np.arange(-0.5, 10.5, 1)\n",
    "plt.hist(number_heads, bins=bins, density=True, edgecolor='white')\n",
    "plt.plot(head_numbers, probabilities, 'o-', color='red', lw=2)\n",
    "\n",
    "plt.xlabel('Number of heads out of $n$ attempts') # add labels\n",
    "plt.ylabel('Fraction of times with this number of heads') \n",
    "\n",
    "plt.title('Coin flip results (n=10)');"
   ]
  },
  {
   "cell_type": "markdown",
   "metadata": {},
   "source": [
    "Hopefully what we should see is that number of coin flips from our random samples matches the theoritical probability distribution pretty well. The more flip experiments we numerically take, the better it should match."
   ]
  },
  {
   "cell_type": "markdown",
   "metadata": {},
   "source": [
    "### Empirical\n",
    "\n",
    "The type of sampling we were doing above where we were flipping coins is called a _Monte Carlo simulation_. We can use simulate data from all sorts of distributions. Let's keep focusing on the binomial distribution and look at using the ```np.random.binomial``` function."
   ]
  },
  {
   "cell_type": "code",
   "execution_count": 12,
   "metadata": {},
   "outputs": [
    {
     "name": "stdout",
     "output_type": "stream",
     "text": [
      "Help on built-in function binomial:\n",
      "\n",
      "binomial(...) method of numpy.random.mtrand.RandomState instance\n",
      "    binomial(n, p, size=None)\n",
      "    \n",
      "    Draw samples from a binomial distribution.\n",
      "    \n",
      "    Samples are drawn from a binomial distribution with specified\n",
      "    parameters, n trials and p probability of success where\n",
      "    n an integer >= 0 and p is in the interval [0,1]. (n may be\n",
      "    input as a float, but it is truncated to an integer in use)\n",
      "    \n",
      "    .. note::\n",
      "        New code should use the `~numpy.random.Generator.binomial`\n",
      "        method of a `~numpy.random.Generator` instance instead;\n",
      "        please see the :ref:`random-quick-start`.\n",
      "    \n",
      "    Parameters\n",
      "    ----------\n",
      "    n : int or array_like of ints\n",
      "        Parameter of the distribution, >= 0. Floats are also accepted,\n",
      "        but they will be truncated to integers.\n",
      "    p : float or array_like of floats\n",
      "        Parameter of the distribution, >= 0 and <=1.\n",
      "    size : int or tuple of ints, optional\n",
      "        Output shape.  If the given shape is, e.g., ``(m, n, k)``, then\n",
      "        ``m * n * k`` samples are drawn.  If size is ``None`` (default),\n",
      "        a single value is returned if ``n`` and ``p`` are both scalars.\n",
      "        Otherwise, ``np.broadcast(n, p).size`` samples are drawn.\n",
      "    \n",
      "    Returns\n",
      "    -------\n",
      "    out : ndarray or scalar\n",
      "        Drawn samples from the parameterized binomial distribution, where\n",
      "        each sample is equal to the number of successes over the n trials.\n",
      "    \n",
      "    See Also\n",
      "    --------\n",
      "    scipy.stats.binom : probability density function, distribution or\n",
      "        cumulative density function, etc.\n",
      "    random.Generator.binomial: which should be used for new code.\n",
      "    \n",
      "    Notes\n",
      "    -----\n",
      "    The probability density for the binomial distribution is\n",
      "    \n",
      "    .. math:: P(N) = \\binom{n}{N}p^N(1-p)^{n-N},\n",
      "    \n",
      "    where :math:`n` is the number of trials, :math:`p` is the probability\n",
      "    of success, and :math:`N` is the number of successes.\n",
      "    \n",
      "    When estimating the standard error of a proportion in a population by\n",
      "    using a random sample, the normal distribution works well unless the\n",
      "    product p*n <=5, where p = population proportion estimate, and n =\n",
      "    number of samples, in which case the binomial distribution is used\n",
      "    instead. For example, a sample of 15 people shows 4 who are left\n",
      "    handed, and 11 who are right handed. Then p = 4/15 = 27%. 0.27*15 = 4,\n",
      "    so the binomial distribution should be used in this case.\n",
      "    \n",
      "    References\n",
      "    ----------\n",
      "    .. [1] Dalgaard, Peter, \"Introductory Statistics with R\",\n",
      "           Springer-Verlag, 2002.\n",
      "    .. [2] Glantz, Stanton A. \"Primer of Biostatistics.\", McGraw-Hill,\n",
      "           Fifth Edition, 2002.\n",
      "    .. [3] Lentner, Marvin, \"Elementary Applied Statistics\", Bogden\n",
      "           and Quigley, 1972.\n",
      "    .. [4] Weisstein, Eric W. \"Binomial Distribution.\" From MathWorld--A\n",
      "           Wolfram Web Resource.\n",
      "           http://mathworld.wolfram.com/BinomialDistribution.html\n",
      "    .. [5] Wikipedia, \"Binomial distribution\",\n",
      "           https://en.wikipedia.org/wiki/Binomial_distribution\n",
      "    \n",
      "    Examples\n",
      "    --------\n",
      "    Draw samples from the distribution:\n",
      "    \n",
      "    >>> n, p = 10, .5  # number of trials, probability of each trial\n",
      "    >>> s = np.random.binomial(n, p, 1000)\n",
      "    # result of flipping a coin 10 times, tested 1000 times.\n",
      "    \n",
      "    A real world example. A company drills 9 wild-cat oil exploration\n",
      "    wells, each with an estimated probability of success of 0.1. All nine\n",
      "    wells fail. What is the probability of that happening?\n",
      "    \n",
      "    Let's do 20,000 trials of the model, and count the number that\n",
      "    generate zero positive results.\n",
      "    \n",
      "    >>> sum(np.random.binomial(9, 0.1, 20000) == 0)/20000.\n",
      "    # answer = 0.38885, or 38%.\n",
      "\n"
     ]
    }
   ],
   "source": [
    "help(np.random.binomial)"
   ]
  },
  {
   "cell_type": "markdown",
   "metadata": {},
   "source": [
    "`np.random.binomial( )` requires 2 parameters, $n$ and $p$, with an optional keyword argument `size` (if `size` is not specified, it returns a single trial). We could have used this function earlier to get the number of heads that were flipped, but the way we did it also worked.\n",
    "\n",
    "Let's follow the example the is given in the `np.random.binomial( )` docstring.\n",
    "\n",
    "A company drills 9 wild-cat oil exploration wells (high risk drilling in unproven areas), each with an estimated probability of success of 0.1. All nine wells fail. What is the probability of that happening? *Note that success in this context means that liquid hydocarbons came out of the well. In reality, you may not consider this a success given that the result is that more hydrocarbons will be combusted as a result, leading to higher atmospheric carbon dioxide levels and associated global warming.*\n",
    "\n",
    "If we do ```np.random.binomial(9, 0.1, 100)``` we will get a list of 100 values that represent the number of wells that yielded oil when there is a 10% (p = 0.1) chance of each individual well yielding oil."
   ]
  },
  {
   "cell_type": "code",
   "execution_count": 13,
   "metadata": {},
   "outputs": [
    {
     "data": {
      "text/plain": [
       "array([0, 0, 1, 0, 0, 0, 2, 0, 2, 0, 3, 1, 3, 1, 1, 0, 0, 0, 0, 0, 0, 1,\n",
       "       0, 1, 1, 0, 1, 0, 1, 2, 0, 1, 0, 1, 0, 0, 1, 0, 2, 0, 1, 0, 1, 3,\n",
       "       0, 1, 1, 1, 0, 3, 1, 2, 1, 0, 2, 1, 2, 1, 2, 1, 1, 1, 3, 1, 1, 1,\n",
       "       0, 0, 1, 0, 1, 1, 0, 0, 1, 1, 1, 1, 1, 1, 2, 0, 1, 2, 2, 1, 0, 2,\n",
       "       1, 4, 0, 2, 0, 1, 0, 2, 2, 1, 1, 0])"
      ]
     },
     "execution_count": 13,
     "metadata": {},
     "output_type": "execute_result"
    }
   ],
   "source": [
    "np.random.binomial(9, 0.1, 100)"
   ]
  },
  {
   "cell_type": "code",
   "execution_count": 14,
   "metadata": {},
   "outputs": [
    {
     "data": {
      "text/plain": [
       "array([False, False, False, False, False, False,  True,  True, False,\n",
       "        True, False,  True,  True,  True, False,  True,  True, False,\n",
       "       False,  True,  True, False, False,  True, False, False, False,\n",
       "       False, False,  True, False,  True,  True, False, False, False,\n",
       "        True,  True,  True, False,  True, False,  True,  True,  True,\n",
       "        True, False, False, False, False, False,  True, False,  True,\n",
       "        True, False,  True,  True, False, False, False, False,  True,\n",
       "       False,  True, False, False,  True, False, False,  True,  True,\n",
       "       False,  True,  True, False,  True, False,  True, False, False,\n",
       "        True, False,  True, False, False, False,  True,  True, False,\n",
       "        True, False, False, False, False,  True, False, False, False,\n",
       "        True])"
      ]
     },
     "execution_count": 14,
     "metadata": {},
     "output_type": "execute_result"
    }
   ],
   "source": [
    "np.random.binomial(9, 0.1, 100) == 0"
   ]
  },
  {
   "cell_type": "code",
   "execution_count": 15,
   "metadata": {},
   "outputs": [
    {
     "data": {
      "text/plain": [
       "46"
      ]
     },
     "execution_count": 15,
     "metadata": {},
     "output_type": "execute_result"
    }
   ],
   "source": [
    "np.sum(np.random.binomial(9, 0.1, 100) == 0)"
   ]
  },
  {
   "cell_type": "markdown",
   "metadata": {},
   "source": [
    "We can write a function that uses this process to simulate fraction of times that there no successful wells for a given number of wells, a given probability and a given number of simulations;"
   ]
  },
  {
   "cell_type": "code",
   "execution_count": 16,
   "metadata": {},
   "outputs": [],
   "source": [
    "def wildcat_failure_rate(n_wells,prob,n_simulations):\n",
    "    '''\n",
    "    Simulate the number of times that there are no successful wells for a given number of wells and a given probability for each well.\n",
    "    \n",
    "    Parameters\n",
    "    ----------\n",
    "    n_wells : number of wells drilled in each simulation\n",
    "    prob : probability that each well will be successful\n",
    "    n_simulations : number of times that drilling n_wells is simulated\n",
    "    '''\n",
    "    \n",
    "    simulations = np.random.binomial(n_wells, prob, n_simulations)\n",
    "    num_failures = np.sum(simulations == 0)\n",
    "    failure_rate = num_failures/n_simulations\n",
    "\n",
    "    return failure_rate"
   ]
  },
  {
   "cell_type": "markdown",
   "metadata": {},
   "source": [
    "<font color=goldenrod>**Put the `wildcat_failure_rate` function to use**</font>\n",
    "\n",
    "Use the function to simulate the failure rate for the above scenario (9 wells drilled, 0.1 probability of success for each well) and do it for 10 simulations"
   ]
  },
  {
   "cell_type": "code",
   "execution_count": 17,
   "metadata": {},
   "outputs": [
    {
     "name": "stdout",
     "output_type": "stream",
     "text": [
      "The failure rate is 0.10\n"
     ]
    }
   ],
   "source": [
    "failure_rate = wildcat_failure_rate(9,0.1,10)\n",
    "\n",
    "print(f\"The failure rate is {failure_rate:.2f}\")"
   ]
  },
  {
   "cell_type": "markdown",
   "metadata": {},
   "source": [
    "<font color=goldenrod>**Put the `wildcat_failure_rate` function to use**</font>\n",
    "\n",
    "Use the function to simulate the failure rate for the same scenario for 1000 simulations"
   ]
  },
  {
   "cell_type": "code",
   "execution_count": 18,
   "metadata": {},
   "outputs": [
    {
     "name": "stdout",
     "output_type": "stream",
     "text": [
      "The failure rate is 0.39\n"
     ]
    }
   ],
   "source": [
    "failure_rate = wildcat_failure_rate(9,0.1,1000)\n",
    "\n",
    "print(f\"The failure rate is {failure_rate:.2f}\")"
   ]
  },
  {
   "cell_type": "markdown",
   "metadata": {},
   "source": [
    "<font color=goldenrod>**Put the `wildcat_failure_rate` function to use**</font>\n",
    "\n",
    "Use the function to simulate the failure rate for 100,000 simulations"
   ]
  },
  {
   "cell_type": "code",
   "execution_count": 19,
   "metadata": {},
   "outputs": [
    {
     "name": "stdout",
     "output_type": "stream",
     "text": [
      "The failure rate is 0.39\n"
     ]
    }
   ],
   "source": [
    "failure_rate = wildcat_failure_rate(9,0.1,100000)\n",
    "\n",
    "print(f\"The failure rate is {failure_rate:.2f}\")"
   ]
  },
  {
   "cell_type": "markdown",
   "metadata": {},
   "source": [
    "<font color=goldenrod>**Put the `binomial_probability` function to use**</font>\n",
    "\n",
    "In the examples above we are simulating the result. Instead we could use the binomial_probability distribution to calculate the probability. Go ahead and do this for this wildcat drilling example. "
   ]
  },
  {
   "cell_type": "code",
   "execution_count": 20,
   "metadata": {},
   "outputs": [
    {
     "name": "stdout",
     "output_type": "stream",
     "text": [
      "The failure rate is 0.39\n"
     ]
    }
   ],
   "source": [
    "failure_rate = binomial_probability(x=0,p=0.1,n=9)\n",
    "\n",
    "print(f\"The failure rate is {failure_rate:.2f}\")"
   ]
  },
  {
   "cell_type": "markdown",
   "metadata": {},
   "source": [
    "**How well does the calculated binomial_probability match the simulated wildcat_failure rates? How many times do you need to simulate the problem to get a number that matches the theoretical probability?** \n",
    "\n",
    "*Write your answer here*"
   ]
  },
  {
   "cell_type": "markdown",
   "metadata": {},
   "source": [
    "## Poisson distribution:\n",
    "\n",
    "A Poisson Distribution gives the probability of a number of events in an interval generated by a Poisson process: the average time between events is known, but the exact timing of events is random. The events must be independent and may occur only one at a time.\n",
    "\n",
    "Within Earth and Planetary Science there are many processes that approximately meet this criteria.\n",
    "\n",
    "### Theoretical\n",
    "\n",
    "The Poisson distribution gives the probability that an event (with two possible outcomes) occurs $k$ number of times in an interval of time where $\\lambda$ is the expected rate of occurance. The Poisson distribution is the limit of the binomial distribution for large $n$. So if you take the limit of the binomial distribution as $n \\rightarrow \\infty$ you'll get the Poisson distribution:\n",
    "\n",
    "$$P(k) = e^{-\\lambda}\\frac{\\lambda^{k}}{k!}$$\n"
   ]
  },
  {
   "cell_type": "code",
   "execution_count": 21,
   "metadata": {},
   "outputs": [],
   "source": [
    "def poisson_probability(k,lam):\n",
    "    \"\"\"\n",
    "    This function computes the probability of getting k particular outcomes when the expected rate is lam.\n",
    "    \"\"\"\n",
    "    \n",
    "    # compute the poisson probability of getting k outcomes when the expected rate is lam\n",
    "    prob = (np.exp(-1*lam))*(lam**k)/factorial(k)\n",
    "    \n",
    "    #return the output\n",
    "    return prob"
   ]
  },
  {
   "cell_type": "markdown",
   "metadata": {},
   "source": [
    "## Observing meteors\n",
    "\n",
    "<img src=\"./images/AMS_TERMINOLOGY.png\" width = 600>\n",
    "\n",
    "From https://www.amsmeteors.org/meteor-showers/meteor-faq/:\n",
    "\n",
    "> **How big are most meteoroids? How fast do they travel?** The majority of visible meteors are caused by particles ranging in size from about that of a small pebble down to a grain of sand, and generally weigh less than 1-2 grams. Those of asteroid origin can be composed of dense stony or metallic material (the minority) while those of cometary origin (the majority) have low densities and are composed of a “fluffy” conglomerate of material, frequently called a “dustball.” The brilliant flash of light from a meteor is not caused so much by the meteoroid’s mass, but by its high level of kinetic energy as it collides with the atmosphere.\n",
    "\n",
    "> Meteors enter the atmosphere at speeds ranging from 11 km/sec (25,000 mph), to 72 km/sec (160,000 mph!). When the meteoroid collides with air molecules, its high level of kinetic energy rapidly ionizes and excites a long, thin column of atmospheric atoms along the meteoroid’s path, creating a flash of light visible from the ground below. This column, or meteor trail, is usually less than 1 meter in diameter, but will be tens of kilometers long.\n",
    "\n",
    "> The wide range in meteoroid speeds is caused partly by the fact that the Earth itself is traveling at about 30 km/sec (67,000 mph) as it revolves around the sun. On the evening side, or trailing edge of the Earth, meteoroids must catch up to the earth’s atmosphere to cause a meteor, and tend to be slow. On the morning side, or leading edge of the earth, meteoroids can collide head-on with the atmosphere and tend to be fast.\n",
    "\n",
    "> **What is a meteor shower? Does a shower occur “all at once” or over a period of time?** Most meteor showers have their origins with comets. Each time a comet swings by the sun, it produces copious amounts of meteoroid sized particles which will eventually spread out along the entire orbit of the comet to form a meteoroid “stream.” If the Earth’s orbit and the comet’s orbit intersect at some point, then the Earth will pass through this stream for a few days at roughly the same time each year, encountering a meteor shower. The only major shower clearly shown to be non-cometary is the Geminid shower, which share an orbit with the asteroid (3200 Phaethon): one that comes unusually close to the sun as well as passing through the earth’s orbit. Most shower meteoroids appear to be “fluffy”, but the Geminids are much more durable as might be expected from asteroid fragments.\n",
    "\n",
    "## Observing the Southern Taurids meteor shower\n",
    "\n",
    "Let's say you are planning a camping trip to go out try to see shooting stars next Fall in a rural location. You are looking at a date in October and that there is an active shower:\n",
    "\n",
    "> **Southern Taurids**\n",
    "\n",
    "> *Active from September 28th to December 2, 2021. The peak is November 4-5, 2021*\n",
    "\n",
    "> The Southern Taurids are a long-lasting shower that reaches a barely noticeable maximum on October 9 or 10. The shower is active for more than two months but rarely produces more than five shower members per hour, even at maximum activity. The Taurids (both branches) are rich in fireballs and are often responsible for increased number of fireball reports from September through November. https://www.amsmeteors.org/meteor-showers/meteor-shower-calendar/\n",
    "\n",
    "At a rate of 5 observed meteors per hour, what is the probability of observing 6?\n",
    "\n",
    "We can use the Poisson probability function to answer this question:"
   ]
  },
  {
   "cell_type": "code",
   "execution_count": 22,
   "metadata": {},
   "outputs": [
    {
     "name": "stdout",
     "output_type": "stream",
     "text": [
      "The probability of getting 6 outcomes when the expected rate is 5 is 0.15\n"
     ]
    }
   ],
   "source": [
    "lamb = 5\n",
    "k = 6\n",
    "prob = poisson_probability(k,lamb)\n",
    "print(f\"The probability of getting {k} outcomes when the expected rate is {lamb} is {prob:.2f}\")"
   ]
  },
  {
   "cell_type": "markdown",
   "metadata": {},
   "source": [
    "So that result tells us that there is a 14.6% chance of observing exactly 6, but it would be much more helpful to be able to visualize the probability distribution. So let's go through and calculate the probability of seeing any number between 0 and 10. First, we can make an array between 0 and 11:"
   ]
  },
  {
   "cell_type": "code",
   "execution_count": 23,
   "metadata": {},
   "outputs": [
    {
     "data": {
      "text/plain": [
       "array([ 0,  1,  2,  3,  4,  5,  6,  7,  8,  9, 10])"
      ]
     },
     "execution_count": 23,
     "metadata": {},
     "output_type": "execute_result"
    }
   ],
   "source": [
    "number_meteors_seen = np.arange(0,11)\n",
    "number_meteors_seen"
   ]
  },
  {
   "cell_type": "code",
   "execution_count": 45,
   "metadata": {},
   "outputs": [],
   "source": [
    "taurid_meteor_sighting_probability = []\n",
    "taurid_meteor_rate = 5\n",
    "\n",
    "for n in number_meteors_seen:\n",
    "    prob = poisson_probability(number_meteors_seen[n],taurid_meteor_rate)\n",
    "    taurid_meteor_sighting_probability.append(prob)"
   ]
  },
  {
   "cell_type": "code",
   "execution_count": 46,
   "metadata": {},
   "outputs": [
    {
     "data": {
      "text/plain": [
       "[0.006737946999085467,\n",
       " 0.03368973499542734,\n",
       " 0.08422433748856833,\n",
       " 0.14037389581428056,\n",
       " 0.1754673697678507,\n",
       " 0.1754673697678507,\n",
       " 0.1462228081398756,\n",
       " 0.104444862957054,\n",
       " 0.06527803934815875,\n",
       " 0.03626557741564375,\n",
       " 0.01813278870782187]"
      ]
     },
     "execution_count": 46,
     "metadata": {},
     "output_type": "execute_result"
    }
   ],
   "source": [
    "taurid_meteor_sighting_probability"
   ]
  },
  {
   "cell_type": "code",
   "execution_count": 47,
   "metadata": {},
   "outputs": [
    {
     "data": {
      "image/png": "[encoded data removed]",
      "text/plain": [
       "<Figure size 640x480 with 1 Axes>"
      ]
     },
     "metadata": {},
     "output_type": "display_data"
    }
   ],
   "source": [
    "plt.figure()\n",
    "plt.plot(number_meteors_seen,taurid_meteor_sighting_probability,label='Southern Taurids ($\\lambda = 5$)')\n",
    "plt.legend()\n",
    "plt.show()"
   ]
  },
  {
   "cell_type": "markdown",
   "metadata": {},
   "source": [
    "When there is not an active shower the background meteor rate is about 2 an hour (although it is variable depending on time of night and season; see more here: https://www.amsmeteors.org/meteor-showers/meteor-faq/).\n",
    "\n",
    "<font color=goldenrod>**_Code for you to write_**</font>\n",
    "\n",
    "- **Calculate the probability of seeing different numbers of meteors when the background rate is 2 an hour (lambda = 2).**\n",
    "- **Plot these probabilities alongside the probability of seeing those same numbers during the Southern Taurids shower.**"
   ]
  },
  {
   "cell_type": "code",
   "execution_count": 48,
   "metadata": {},
   "outputs": [
    {
     "data": {
      "text/plain": [
       "[0.1353352832366127,\n",
       " 0.2706705664732254,\n",
       " 0.2706705664732254,\n",
       " 0.1804470443154836,\n",
       " 0.0902235221577418,\n",
       " 0.03608940886309672,\n",
       " 0.012029802954365574,\n",
       " 0.0034370865583901638,\n",
       " 0.0008592716395975409,\n",
       " 0.00019094925324389798,\n",
       " 3.8189850648779595e-05]"
      ]
     },
     "execution_count": 48,
     "metadata": {},
     "output_type": "execute_result"
    }
   ],
   "source": [
    "background_sighting_probability = []\n",
    "background_meteor_rate = 2\n",
    "\n",
    "for n in number_meteors_seen:\n",
    "    prob = poisson_probability(number_meteors_seen[n],background_meteor_rate)\n",
    "    background_sighting_probability.append(prob)\n",
    "\n",
    "background_sighting_probability\n"
   ]
  },
  {
   "cell_type": "code",
   "execution_count": 49,
   "metadata": {},
   "outputs": [
    {
     "data": {
      "image/png": "[encoded data removed]",
      "text/plain": [
       "<Figure size 640x480 with 1 Axes>"
      ]
     },
     "metadata": {},
     "output_type": "display_data"
    }
   ],
   "source": [
    "plt.figure()\n",
    "plt.plot(number_meteors_seen,taurid_meteor_sighting_probability,label='Southern Taurids ($\\lambda = 5$)')\n",
    "plt.plot(number_meteors_seen,background_sighting_probability,label='Background meteors ($\\lambda = 2$)')\n",
    "plt.ylabel('Probability')\n",
    "plt.xlabel('Number of meteors seen')\n",
    "plt.legend()\n",
    "plt.show()"
   ]
  },
  {
   "cell_type": "markdown",
   "metadata": {},
   "source": [
    "## Simulate meteor observing\n",
    "\n",
    "There are many cases where it can be useful to simulate data sets. In this case, one could simulate what your experience could be in terms of the number of hours you could spend looking at the night sky and seeing 1 meteor or more on a normal night vs. a night with the Southern Taurids shower ongoing.\n",
    "\n",
    "We can use the `np.random.poisson` function to simulate 'realistic' data.  \n",
    "\n",
    "`np.random.poisson( )` requires 1 parameter `lam` and an optional parameter `size`.  Each call to `np.random.poisson( )` returns `size` number of draws from a Poisson distribution with $\\lambda =$ `lam`.\n",
    "\n",
    "Let's try it with $\\lambda = 2$ (the background rate)."
   ]
  },
  {
   "cell_type": "code",
   "execution_count": 28,
   "metadata": {},
   "outputs": [
    {
     "name": "stdout",
     "output_type": "stream",
     "text": [
      "The fraction of hours watched with a meteor sighting is 83.00%\n"
     ]
    }
   ],
   "source": [
    "lam = 2\n",
    "number_hours_watched = 100\n",
    "number_hours_w_meteor_sighting = []\n",
    "\n",
    "for n in np.arange(0,number_hours_watched):\n",
    "    number_meteors = np.random.poisson(lam)\n",
    "    if number_meteors >= 1:\n",
    "        number_hours_w_meteor_sighting.append(1)\n",
    "        \n",
    "fraction_w_sighting = len(number_hours_w_meteor_sighting)/number_hours_watched\n",
    "\n",
    "print(f\"The fraction of hours watched with a meteor sighting is {fraction_w_sighting*100:.2f}%\")"
   ]
  },
  {
   "cell_type": "markdown",
   "metadata": {},
   "source": [
    "- **Do the same meteor watching simulation with $\\lambda = 5$ (the Southern Taurids rate). Do it for 10 hours, 100 hours, 100,000 hours.** "
   ]
  },
  {
   "cell_type": "code",
   "execution_count": 29,
   "metadata": {},
   "outputs": [
    {
     "name": "stdout",
     "output_type": "stream",
     "text": [
      "The fraction of hours watched with a meteor sighting is 100.00%\n"
     ]
    }
   ],
   "source": [
    "lam = 5\n",
    "number_hours_watched = 10\n",
    "number_hours_w_meteor_sighting = []\n",
    "\n",
    "for n in np.arange(0,number_hours_watched):\n",
    "    number_meteors = np.random.poisson(lam)\n",
    "    if number_meteors >= 1:\n",
    "        number_hours_w_meteor_sighting.append(1)\n",
    "        \n",
    "fraction_w_sighting = len(number_hours_w_meteor_sighting)/number_hours_watched\n",
    "\n",
    "print(f\"The percent of hours watched with a meteor sighting is {fraction_w_sighting*100:.2f}%\")"
   ]
  },
  {
   "cell_type": "code",
   "execution_count": 30,
   "metadata": {},
   "outputs": [
    {
     "name": "stdout",
     "output_type": "stream",
     "text": [
      "The fraction of hours watched with a meteor sighting is 98.00%\n"
     ]
    }
   ],
   "source": [
    "lam = 5\n",
    "number_hours_watched = 100\n",
    "number_hours_w_meteor_sighting = []\n",
    "\n",
    "for n in np.arange(0,number_hours_watched):\n",
    "    number_meteors = np.random.poisson(lam)\n",
    "    if number_meteors >= 1:\n",
    "        number_hours_w_meteor_sighting.append(1)\n",
    "        \n",
    "fraction_w_sighting = len(number_hours_w_meteor_sighting)/number_hours_watched\n",
    "\n",
    "print(f\"The percent of hours watched with a meteor sighting is {fraction_w_sighting*100:.2f}%\")"
   ]
  },
  {
   "cell_type": "code",
   "execution_count": 31,
   "metadata": {},
   "outputs": [
    {
     "name": "stdout",
     "output_type": "stream",
     "text": [
      "The fraction of hours watched with a meteor sighting is 99.34%\n"
     ]
    }
   ],
   "source": [
    "lam = 5\n",
    "number_hours_watched = 100000\n",
    "number_hours_w_meteor_sighting = []\n",
    "\n",
    "for n in np.arange(0,number_hours_watched):\n",
    "    number_meteors = np.random.poisson(lam)\n",
    "    if number_meteors >= 1:\n",
    "        number_hours_w_meteor_sighting.append(1)\n",
    "        \n",
    "fraction_w_sighting = len(number_hours_w_meteor_sighting)/number_hours_watched\n",
    "\n",
    "print(f\"The percent of hours watched with a meteor sighting is {fraction_w_sighting*100:.2f}%\")"
   ]
  },
  {
   "cell_type": "markdown",
   "metadata": {},
   "source": [
    "### Extension: Earthquake Probability\n",
    "\n",
    "The occurrence of earthquakes is also a Poisson process, events occur randomly in time, and the average recurrence can be determined from Gutenberg-Richter. \n",
    "\n",
    "The Gutenberg-Richter statistic which gives the annual rate of earthquakes above a given magnitude.\n",
    "\n",
    "Assumeing the Gutenberg-Richter relationshipfor the San Franciso Bay Area: log10(N)= 3.266 - 0.797M, for each year.\n",
    "\n",
    "Let's apply the Poisson distribution to this problem. \n",
    "\n",
    "So $\\lambda = N * {\\Delta}time$, where N is the annual rate. It is common to consider ${\\Delta}time=30 yrs$. Why is that?\n",
    "\n",
    "Use the Poisson's distribution to find the probability of 0 to 9 M5 events in a 30 year period."
   ]
  },
  {
   "cell_type": "code",
   "execution_count": 53,
   "metadata": {},
   "outputs": [
    {
     "name": "stdout",
     "output_type": "stream",
     "text": [
      "The expected number of M5 earthquakes in a year is 0.19\n"
     ]
    },
    {
     "data": {
      "image/png": "[encoded data removed]",
      "text/plain": [
       "<Figure size 640x480 with 1 Axes>"
      ]
     },
     "metadata": {},
     "output_type": "display_data"
    }
   ],
   "source": [
    "# Calculate the number of M5 earthquakes\n",
    "M = 5\n",
    "logN = 3.266 - 0.797 * M\n",
    "N = 10**logN\n",
    "print(f\"The expected number of M5 earthquakes in a year is {N:.2f}\")\n",
    "\n",
    "# Calculate the probability of observing at least 0-9 M5 earthquake in a year\n",
    "lam = N * 30\n",
    "\n",
    "number_m5_earthquakes = np.arange(0,10)\n",
    "\n",
    "m5_earthquake_probability = []\n",
    "\n",
    "for n in number_m5_earthquakes:\n",
    "    prob = poisson_probability(n,lam)\n",
    "    m5_earthquake_probability.append(prob)\n",
    "\n",
    "plt.figure()\n",
    "plt.plot(number_m5_earthquakes,m5_earthquake_probability,label='M5 earthquakes ($\\lambda = 10^{3.266-0.797M}$)')\n",
    "plt.ylabel('Probability')\n",
    "plt.xlabel('Number of M5 earthquakes')\n",
    "plt.legend()\n",
    "plt.show()\n"
   ]
  },
  {
   "cell_type": "markdown",
   "metadata": {},
   "source": [
    "How does the probability change with the number of events? How does that reconcile with the rate of M5 earthquakes?"
   ]
  },
  {
   "cell_type": "markdown",
   "metadata": {},
   "source": []
  },
  {
   "cell_type": "markdown",
   "metadata": {},
   "source": [
    "### Poisson Probability of 1 or more earthquakes\n",
    "\n",
    "The Poisson probability of zero events has an interesting use in characterizing earthquake hazard.\n",
    "\n",
    "$P(k=0)=e^{-\\lambda}$\n",
    "\n",
    "The complement of the zero event probability is the probability of 1 or more earthquakes occuring in the period of time. It is this probability that is used in earthquake forecast reports. The probability of one or more events is written as; \n",
    "\n",
    "$P(k >= 1) = 1 - e^{-\\lambda}$\n",
    "\n",
    "Determine the probability of 1 or more M4, M5, M6 and M7 in a 30 year period.\n"
   ]
  },
  {
   "cell_type": "code",
   "execution_count": 55,
   "metadata": {},
   "outputs": [
    {
     "name": "stdout",
     "output_type": "stream",
     "text": [
      "The probability of observing at least one M4 earthquake in a year is 1.00\n",
      "The probability of observing at least one M5 earthquake in a year is 1.00\n",
      "The probability of observing at least one M6 earthquake in a year is 0.60\n",
      "The probability of observing at least one M7 earthquake in a year is 0.14\n"
     ]
    }
   ],
   "source": [
    "for M in [4, 5, 6, 7]:\n",
    "    logN = 3.266 - 0.797 * M\n",
    "    N = 10**logN\n",
    "\n",
    "    lam = N * 30\n",
    "    prob0 = poisson_probability(0,lam)\n",
    "    prob = 1 - prob0\n",
    "\n",
    "    print(f\"The probability of observing at least one M{M} earthquake in a year is {prob:.2f}\") "
   ]
  },
  {
   "cell_type": "markdown",
   "metadata": {},
   "source": [
    "How do the probabilities change if a 10 year period is considered?\n"
   ]
  },
  {
   "cell_type": "code",
   "execution_count": 56,
   "metadata": {},
   "outputs": [
    {
     "name": "stdout",
     "output_type": "stream",
     "text": [
      "The probability of observing at least one M4 earthquake in a year is 1.00\n",
      "The probability of observing at least one M5 earthquake in a year is 0.85\n",
      "The probability of observing at least one M6 earthquake in a year is 0.26\n",
      "The probability of observing at least one M7 earthquake in a year is 0.05\n"
     ]
    }
   ],
   "source": [
    "for M in [4, 5, 6, 7]:\n",
    "    logN = 3.266 - 0.797 * M\n",
    "    N = 10**logN\n",
    "\n",
    "    lam = N * 10\n",
    "    prob0 = poisson_probability(0,lam)\n",
    "    prob = 1 - prob0\n",
    "\n",
    "    print(f\"The probability of observing at least one M{M} earthquake in a year is {prob:.2f}\") "
   ]
  }
 ],
 "metadata": {
  "kernelspec": {
   "display_name": "base",
   "language": "python",
   "name": "python3"
  },
  "language_info": {
   "codemirror_mode": {
    "name": "ipython",
    "version": 3
   },
   "file_extension": ".py",
   "mimetype": "text/x-python",
   "name": "python",
   "nbconvert_exporter": "python",
   "pygments_lexer": "ipython3",
   "version": "3.10.12"
  }
 },
 "nbformat": 4,
 "nbformat_minor": 4
}
